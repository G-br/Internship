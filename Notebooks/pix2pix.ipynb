{
 "cells": [
  {
   "cell_type": "code",
   "execution_count": 1,
   "metadata": {
    "id": "uqboL_LmdG3S"
   },
   "outputs": [],
   "source": [
    "# example of pix2pix gan for satellite to map image-to-image translation\n",
    "import numpy as np\n",
    "from numpy import load\n",
    "from numpy import zeros\n",
    "from numpy import ones\n",
    "from numpy.random import randint\n",
    "from tensorflow.keras.optimizers import Adam\n",
    "from keras.initializers import RandomNormal\n",
    "from keras.models import Model\n",
    "from keras.models import Input\n",
    "from keras.layers import Conv2D\n",
    "from keras.layers import Conv2DTranspose\n",
    "from keras.layers import LeakyReLU\n",
    "from keras.layers import Activation\n",
    "from keras.layers import Concatenate\n",
    "from keras.layers import Dropout\n",
    "from keras.layers import BatchNormalization\n",
    "from keras.layers import LeakyReLU\n",
    "from matplotlib import pyplot"
   ]
  },
  {
   "cell_type": "code",
   "execution_count": 56,
   "metadata": {
    "colab": {
     "base_uri": "https://localhost:8080/"
    },
    "id": "G2jLdOMzeX1q",
    "outputId": "794cc4b8-93fc-40ef-94da-c67595bd299a"
   },
   "outputs": [
    {
     "data": {
      "text/plain": [
       "86811"
      ]
     },
     "execution_count": 56,
     "metadata": {},
     "output_type": "execute_result"
    }
   ],
   "source": [
    "import tifffile as tiff\n",
    "import gc\n",
    "def untile(im):\n",
    "    nim=[]\n",
    "    n=5\n",
    "    for i in range(n):\n",
    "        for j in range(n):\n",
    "            nim.append(im[:,:,(j)*1024:(j+1)*1024,(i)*1024:(i+1)*1024])\n",
    "    return nim\n",
    "\n",
    "def selmax(im):\n",
    "    nim=np.zeros((25,4,1024,1024))\n",
    "    num=0\n",
    "    for i in im:\n",
    "        nim[num]=i[0]\n",
    "        for j in i:\n",
    "            if np.mean(j[0])>np.mean(nim[num][0]):\n",
    "                nim[num]=j\n",
    "        num+=1\n",
    "    return np.transpose(nim,(0,2,3,1))\n",
    "\n",
    "dataim=[tiff.imread(\"../Documents/Microscopie/2022-04-21_BioSamples_Acquisition/01_NDD+interne_5-5_1024-1024_5s.lsm\"),\n",
    "        tiff.imread(\"../Documents/Microscopie/2022-04-21_BioSamples_Acquisition/05_NDD+interne_5-5_1024-1024_5s.lsm\"),\n",
    "        tiff.imread(\"../Documents/Microscopie/2022-04-21_BioSamples_Acquisition/07_NDD+interne_5-5_1024-1024_5s.lsm\")]\n",
    "imgs=None\n",
    "for im in dataim:\n",
    "    im2=untile(im)\n",
    "    im3=selmax(im2).astype(\"float32\")\n",
    "    if imgs is None:\n",
    "        imgs=im3\n",
    "    else:imgs=np.concatenate((imgs,im3),axis=0)\n",
    "    del im2,im3\n",
    "del dataim\n",
    "gc.collect()"
   ]
  },
  {
   "cell_type": "code",
   "execution_count": 57,
   "metadata": {
    "colab": {
     "base_uri": "https://localhost:8080/"
    },
    "id": "UT3fB8fpeYhr",
    "outputId": "5207961c-fa2f-45f4-d65b-446df15b40da"
   },
   "outputs": [
    {
     "data": {
      "text/plain": [
       "0"
      ]
     },
     "execution_count": 57,
     "metadata": {},
     "output_type": "execute_result"
    }
   ],
   "source": [
    "imshape=np.shape(np.expand_dims(imgs[0,:,:,0],axis=-1))\n",
    "nddr=np.expand_dims(imgs[...,0],axis=3)\n",
    "nddg=np.expand_dims(imgs[...,1],axis=3)\n",
    "intg=np.expand_dims(imgs[...,2],axis=3)\n",
    "intr=np.expand_dims(imgs[...,3],axis=3)\n",
    "del imgs\n",
    "gc.collect()\n",
    "X=np.concatenate((intg,intr),axis=0)\n",
    "Y=np.concatenate((nddg,nddr),axis=0)\n",
    "del nddr,nddg,intg,intr\n",
    "gc.collect()\n",
    "x_test,y_test=X,Y\n",
    "del X,Y\n",
    "gc.collect()"
   ]
  },
  {
   "cell_type": "code",
   "execution_count": 58,
   "metadata": {
    "id": "S2p8ewzQeZTl"
   },
   "outputs": [],
   "source": [
    "import cv2\n",
    "import numpy as np\n",
    "import matplotlib.pyplot as plt\n",
    "\n",
    "class Tile:\n",
    "    '''\n",
    "    Usage    : Tile(image,tilesize,overlap,verbose)\n",
    "    image    : Array of shape [height,width,canals]\n",
    "    tilesize : The output will be of shape [tilesize,tilesize,canals]\n",
    "    overlap  : Amount of pixel common between two consecutive tiles\n",
    "    ================================================================\n",
    "    Methods  :\n",
    "    padding(mode=\"reflect\"): Returns a padded image via numpy.pad usage\n",
    "    tilegeneration()       : Returns a list parts of original image(tiles)\n",
    "    tilevis(concat=True)   : Plots the tiles list for the image\n",
    "    detmask()              : Returns the mask of overlapping areas\n",
    "    reconstruct()          : Builds the image back out of the tile list   \n",
    "    '''\n",
    "    \n",
    "    def __init__(self, image, tilesize=None,overlap=None,verbose=False):\n",
    "        \n",
    "        self.im = image\n",
    "        self.s  = np.shape(self.im)[:2]\n",
    "        if tilesize is None:tilesize=self.s[0]//4\n",
    "        self.t  = tilesize\n",
    "        if overlap is None :overlap =tilesize//4\n",
    "        self.o  = overlap\n",
    "        self.verbose=verbose\n",
    "        self.verdata()\n",
    "        self.to = self.t-self.o\n",
    "        self.nbt= [(self.s[0]-self.o)//self.to+1,(self.s[1]-self.o)//self.to+1]\n",
    "        self.p  = None\n",
    "        self.pIm= None\n",
    "        self.tl = None\n",
    "        \n",
    "    def verdata(self):\n",
    "        if (np.shape(self.im)[0]%2)!=0:\n",
    "            if self.verbose:print(\"Changing image to an even dimension value, one pixel was removed on axis zero.\")\n",
    "            self.im=self.im[:-1]\n",
    "        if (np.shape(self.im)[1]%2)!=0:\n",
    "            if self.verbose:print(\"Changing image to an even dimension value, one pixel was removed on axis one.\")\n",
    "            self.im=self.im[:,:-1]\n",
    "        if self.o%2!=0:\n",
    "            if self.verbose:print(\"Please use even value for overlap, overlap was reduced by one.\")\n",
    "            self.o-=1\n",
    "        if self.t>np.shape(self.im)[0] or self.t>np.shape(self.im)[1]:\n",
    "            if self.verbose:print(\"You probably didn't do what you want, you will just have one padded image. (Tile size larger than image)\")\n",
    "                      \n",
    "    def detpad(self):\n",
    "        psize=[(self.nbt[0]*self.to+self.o)-self.s[0],(self.nbt[1]*self.to+self.o)-self.s[1]]\n",
    "        for i in range(len(psize)):\n",
    "            if  psize[i]==self.to:\n",
    "                psize[i]%=self.to\n",
    "                self.nbt[i]-=1\n",
    "        return psize\n",
    "    \n",
    "    def padding(self,mode=\"reflect\"):\n",
    "        if self.p is None:\n",
    "            self.p=self.detpad()\n",
    "        padval=int(self.p[0]/2),int(self.p[1]/2)\n",
    "        pIm=np.pad(self.im,((padval[0],padval[0]),(padval[1],padval[1]),(0,0)),mode=mode)\n",
    "        del padval\n",
    "        gc.collect()\n",
    "        return pIm\n",
    "    \n",
    "    def tilegeneration(self):\n",
    "        if self.pIm is None:\n",
    "            self.pIm=self.padding()\n",
    "        tiles=[]\n",
    "        for i in range (self.nbt[0]):\n",
    "            for j in range (self.nbt[1]):\n",
    "                tiles.append(self.pIm[i*self.to:i*self.to+self.t,j*self.to:j*self.to+self.t])\n",
    "        return tiles\n",
    "    \n",
    "    def tilevis(self,concat=True):\n",
    "        if self.tl is None:\n",
    "            self.tl=self.tilegeneration()\n",
    "        plt.figure(figsize =( 3*self.nbt[1], 3*self.nbt[0]))\n",
    "        if not concat:\n",
    "            for i in range(self.nbt[0]):\n",
    "                for j in range(self.nbt[1]):\n",
    "                    ax = plt.subplot(self.nbt[0], self.nbt[1], i*self.nbt[1]+j+1)\n",
    "                    ax.axis(\"off\")\n",
    "                    plt.imshow(self.tl[i*self.nbt[1]+j])\n",
    "        else:\n",
    "            im=[]\n",
    "            for i in range(self.nbt[0]):\n",
    "                line=[]\n",
    "                for j in range(self.nbt[1]):\n",
    "                    if j==0: line=self.tl[i*self.nbt[1]+j]\n",
    "                    else: line = np.concatenate((line,self.tl[i*self.nbt[1]+j]),axis=1)\n",
    "                if i==0:im=line\n",
    "                else:im=np.concatenate((im,line),axis=0)\n",
    "            plt.imshow(im[...,0])\n",
    "        del im\n",
    "        gc.collect()\n",
    "        plt.show()\n",
    "        \n",
    "    \n",
    "    def detmask(self):\n",
    "        if self.pIm is None:\n",
    "            self.pIm=self.padding()\n",
    "        mask=np.zeros(np.shape(self.pIm)[:2])\n",
    "        for i in range (self.nbt[0]):\n",
    "            for j in range (self.nbt[1]):\n",
    "                mask[i*self.to:i*self.to+self.t,j*self.to:j*self.to+self.t]+=np.ones((self.t,self.t))\n",
    "        return mask[int(self.p[0]/2):self.s[0]+int(self.p[0]/2),int(self.p[1]/2):self.s[1]+int(self.p[1]/2)]\n",
    "    \n",
    "    def reconstruct(self,tl=None):\n",
    "        if tl is None:\n",
    "            tl=self.tilegeneration()\n",
    "        reim=np.zeros(np.shape(self.pIm))\n",
    "        for i in range (self.nbt[0]):\n",
    "            for j in range (self.nbt[1]):\n",
    "                reim[i*self.to:i*self.to+self.t,j*self.to:j*self.to+self.t]+=tl[i*self.nbt[1]+j]\n",
    "        reim=reim[int(self.p[0]/2):self.s[0]+int(self.p[0]/2),int(self.p[1]/2):self.s[1]+int(self.p[1]/2)]\n",
    "        mask=self.detmask()\n",
    "        for i in range(np.shape(reim)[2]):\n",
    "            reim[...,i]/=mask\n",
    "        if np.max(reim)<=1:\n",
    "          reim=(reim*255)\n",
    "        return reim.astype(int)\n"
   ]
  },
  {
   "cell_type": "code",
   "execution_count": 59,
   "metadata": {
    "id": "epfp2qMsgF39"
   },
   "outputs": [],
   "source": [
    "def tiling(dataset,tilesize=256,overlap=64):\n",
    "    \n",
    "    tiled=[]\n",
    "    for i in dataset:\n",
    "        tempi=Tile(i,tilesize,overlap)\n",
    "        tiled.append(tempi.tilegeneration())\n",
    "    del tempi\n",
    "    gc.collect()\n",
    "    return np.reshape(tiled,(-1,tilesize,tilesize,np.shape(dataset)[-1]))\n",
    "tilesize=256\n",
    "overlap=64\n",
    "x_test,y_test=tiling(x_test),tiling(y_test)"
   ]
  },
  {
   "cell_type": "code",
   "execution_count": 60,
   "metadata": {
    "colab": {
     "base_uri": "https://localhost:8080/"
    },
    "id": "pJGQvoSggK0R",
    "outputId": "850e5c79-5cac-4888-d843-1e264b0e1043"
   },
   "outputs": [
    {
     "name": "stdout",
     "output_type": "stream",
     "text": [
      "0.0 255.0\n",
      "0.0 255.0\n",
      "-1.0 1.0\n"
     ]
    }
   ],
   "source": [
    "print(np.min(x_test),np.max(x_test))\n",
    "x_test_processed=(((x_test/255.0*2)-1).copy()).astype(\"float32\")\n",
    "y_test_processed=(((y_test/255.0*2)-1).copy()).astype(\"float32\")\n",
    "print(np.min(x_test),np.max(x_test))\n",
    "print(np.min(x_test_processed),np.max(x_test_processed))"
   ]
  },
  {
   "cell_type": "code",
   "execution_count": 68,
   "metadata": {
    "colab": {
     "base_uri": "https://localhost:8080/"
    },
    "id": "YzCdanf94Afq",
    "outputId": "9aa2d2ab-4bb3-4544-b31d-d82cfab69448"
   },
   "outputs": [
    {
     "name": "stdout",
     "output_type": "stream",
     "text": [
      "WARNING:tensorflow:No training configuration found in save file, so the model was *not* compiled. Compile it manually.\n"
     ]
    }
   ],
   "source": [
    "import tensorflow as tf\n",
    "g_model = tf.keras.models.load_model('champipix_conv3_0')\n"
   ]
  },
  {
   "cell_type": "code",
   "execution_count": 41,
   "metadata": {
    "id": "Tgo20UMlIlUr"
   },
   "outputs": [
    {
     "name": "stdout",
     "output_type": "stream",
     "text": [
      "1/1 [==============================] - 1s 555ms/step\n"
     ]
    }
   ],
   "source": [
    "x_res=g_model.predict(x_test_processed[:10],verbose=True)"
   ]
  },
  {
   "cell_type": "code",
   "execution_count": 154,
   "metadata": {},
   "outputs": [
    {
     "name": "stdout",
     "output_type": "stream",
     "text": [
      "(1250, 256, 256, 1)\n",
      "(50, 1024, 1024, 1)\n",
      "235\n"
     ]
    }
   ],
   "source": [
    "tinfo=Tile(np.zeros((1024,1024,1)),tilesize,overlap)\n",
    "xtrec=[]\n",
    "tinfo.pIm=tinfo.padding()\n",
    "nim=tinfo.nbt[0]*tinfo.nbt[1]\n",
    "print(np.shape(x_res))\n",
    "for i in range(len(x_res)//nim):\n",
    "    xtrec.append(tinfo.reconstruct(x_res[nim*i:nim*(i+1)]))\n",
    "print(np.shape(xtrec))\n",
    "print(np.max(xtrec))"
   ]
  },
  {
   "cell_type": "code",
   "execution_count": 157,
   "metadata": {},
   "outputs": [],
   "source": [
    "fres=np.zeros([2,5120,5120,1])\n",
    "for k in range(2):\n",
    "    for j in range (5):\n",
    "        for i in range (5):\n",
    "            fres[k,i*1024:i*1024+1024,j*1024:j*1024+1024]=(xtrec[25*k+5*j+i])"
   ]
  },
  {
   "cell_type": "code",
   "execution_count": 158,
   "metadata": {},
   "outputs": [
    {
     "data": {
      "text/plain": [
       "24"
      ]
     },
     "execution_count": 158,
     "metadata": {},
     "output_type": "execute_result"
    }
   ],
   "source": [
    "if True:\n",
    "    from PIL import Image\n",
    "    for i in range(len(fres)):\n",
    "        im=np.concatenate((fres[i],fres[i],fres[i]),axis=2)\n",
    "        im=Image.fromarray((255*(im-np.min(im))/(np.max(im)-np.min(im))).astype(\"uint8\"))\n",
    "        im.save(\"champipredoct%d.png\"%i)\n",
    "        del im\n",
    "gc.collect()"
   ]
  },
  {
   "cell_type": "code",
   "execution_count": 66,
   "metadata": {},
   "outputs": [],
   "source": [
    "def generate_real_samples(dataset, n_samples, patch_shape):\n",
    "\t# unpack dataset\n",
    "\ttrainA, trainB = dataset\n",
    "\t# choose random instances\n",
    "\tix = randint(0, trainA.shape[0], n_samples)\n",
    "\t# retrieve selected images\n",
    "\tX1, X2 = trainA[ix], trainB[ix]\n",
    "\t# generate 'real' class labels (1)\n",
    "\ty = ones((n_samples, patch_shape, patch_shape, 1))\n",
    "\treturn [X1, X2], y\n",
    "\n",
    "# generate a batch of images, returns images and targets\n",
    "def generate_fake_samples(g_model, samples, patch_shape):\n",
    "\t# generate fake instance\n",
    "\tX = g_model.predict(samples)\n",
    "\t# create 'fake' class labels (0)\n",
    "\ty = zeros((len(X), patch_shape, patch_shape, 1))\n",
    "\treturn X, y"
   ]
  },
  {
   "cell_type": "code",
   "execution_count": null,
   "metadata": {},
   "outputs": [],
   "source": [
    "\n",
    "n_samples=30\n",
    "x_valid_processed=np.copy(x_test_processed).astype(\"float32\")\n",
    "y_valid_processed=np.copy(y_test_processed).astype(\"float32\")\n",
    "validset = [x_valid_processed,y_valid_processed]\n",
    "g_model = tf.keras.models.load_model('champipix_conv3_gen_3') \n",
    "[X_realA, X_realB], _ = generate_real_samples(validset, n_samples, 1)\n",
    "# generate a batch of fake samples\n",
    "X_fakeB, _ = generate_fake_samples(g_model, X_realA, 1)\n",
    "# scale all pixels from [-1,1] to [0,1]\n",
    "print(np.min(X_realA),np.max(X_realA))\n",
    "print(np.min(X_realB),np.max(X_realB))\n",
    "print(np.min(X_fakeB),np.max(X_fakeB))\n",
    "X_realA = (X_realA + 1) / 2.0\n",
    "X_realB = (X_realB + 1) / 2.0\n",
    "X_fakeB = (X_fakeB + 1) / 2.0\n",
    "# plot generated target image\n",
    "for i in range(10):\n",
    "    pyplot.figure(figsize=(20,20))\n",
    "    pyplot.axis('off')\n",
    "    pyplot.imshow(X_realA[i].astype(\"float32\").squeeze(),cmap=\"gray\")  \n",
    "    pyplot.figure(figsize=(20,20))\n",
    "    pyplot.axis('off')\n",
    "    pyplot.imshow(X_fakeB[i].astype(\"float32\").squeeze(),cmap=\"gray\")  \n",
    "    pyplot.figure(figsize=(20,20))\n",
    "    pyplot.axis('off')\n",
    "    pyplot.imshow(X_realB[i].astype(\"float32\").squeeze(),cmap=\"gray\")\n",
    "# plot real target image"
   ]
  },
  {
   "cell_type": "code",
   "execution_count": null,
   "metadata": {},
   "outputs": [],
   "source": [
    "n_samples=20\n",
    "x_valid_processed=np.copy(((x_test/255.0)*2)-1).astype(\"float32\")\n",
    "y_valid_processed=np.copy(((y_test/255.0)*2)-1).astype(\"float32\")\n",
    "validset = [x_valid_processed[:20],y_valid_processed[:20]]\n",
    "\n",
    "#g_model = tf.keras.models.load_model('gdrive/MyDrive/champipix_conv3') \n",
    "[X_realA, X_realB], _ = generate_real_samples(validset, n_samples, 1)\n",
    "# generate a batch of fake samples\n",
    "X_fakeB, _ = generate_fake_samples(g_model, X_realA, 1)\n",
    "# scale all pixels from [-1,1] to [0,1]\n",
    "print(np.min(X_realA),np.max(X_realA))\n",
    "print(np.min(X_realB),np.max(X_realB))\n",
    "print(np.min(X_fakeB),np.max(X_fakeB))\n",
    "X_realA = (X_realA + 1) / 2.0\n",
    "X_realB = (X_realB + 1) / 2.0\n",
    "X_fakeB = (X_fakeB + 1) / 2.0\n",
    "# plot generated target image\n",
    "for i in range(10,20):\n",
    "  pyplot.figure(figsize=(20,20))\n",
    "  pyplot.axis('off')\n",
    "  pyplot.imshow(X_realA[i].astype(\"float32\").squeeze(),cmap=\"gray\")  \n",
    "  pyplot.figure(figsize=(20,20))\n",
    "  pyplot.axis('off')\n",
    "  pyplot.imshow(X_fakeB[i].astype(\"float32\").squeeze(),cmap=\"gray\")  \n",
    "  pyplot.figure(figsize=(20,20))\n",
    "  pyplot.axis('off')\n",
    "  pyplot.imshow(X_realB[i].astype(\"float32\").squeeze(),cmap=\"gray\")\n",
    "# plot real target image\n"
   ]
  },
  {
   "cell_type": "code",
   "execution_count": null,
   "metadata": {},
   "outputs": [],
   "source": [
    "for i in range(10):\n",
    "    plt.figure(figsize=(20,20))\n",
    "    plt.imshow((x_res[i]+1)/2.0,cmap=\"gray\")\n",
    "    plt.figure(figsize=(20,20))\n",
    "    plt.imshow((x_test_processed[i]+1)/2.0,cmap=\"gray\")\n",
    "    "
   ]
  }
 ],
 "metadata": {
  "accelerator": "GPU",
  "colab": {
   "collapsed_sections": [],
   "name": "champipix²",
   "provenance": []
  },
  "gpuClass": "standard",
  "kernelspec": {
   "display_name": "Python 3 (ipykernel)",
   "language": "python",
   "name": "python3"
  },
  "language_info": {
   "codemirror_mode": {
    "name": "ipython",
    "version": 3
   },
   "file_extension": ".py",
   "mimetype": "text/x-python",
   "name": "python",
   "nbconvert_exporter": "python",
   "pygments_lexer": "ipython3",
   "version": "3.9.7"
  }
 },
 "nbformat": 4,
 "nbformat_minor": 1
}
