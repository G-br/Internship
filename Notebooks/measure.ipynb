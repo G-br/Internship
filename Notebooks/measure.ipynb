{
 "cells": [
  {
   "cell_type": "code",
   "execution_count": 56,
   "id": "9507a89c",
   "metadata": {},
   "outputs": [],
   "source": [
    "import numpy as np\n",
    "import cv2 as cv\n",
    "import matplotlib.pyplot as plt\n",
    "import tifffile as tiff"
   ]
  },
  {
   "cell_type": "code",
   "execution_count": 162,
   "id": "4564f9c0",
   "metadata": {},
   "outputs": [],
   "source": [
    "import tifffile as tiff\n",
    "filenames=[\"Aug12\",\n",
    "           \"Aug13\",\n",
    "           \"Aug14\",\n",
    "           \"Aug15\"\n",
    "           ]\n",
    "#Data loading \n",
    "X=[]\n",
    "pathx=\"../Pix2Pix/Predicted/\"\n",
    "for i in filenames:\n",
    "    X.append(tiff.imread(pathx+i+\".tif\")[...,0])"
   ]
  },
  {
   "cell_type": "code",
   "execution_count": 141,
   "id": "4a8ad700",
   "metadata": {},
   "outputs": [],
   "source": [
    "import cv2\n",
    "def contours(im):\n",
    "    sobelx = cv2.Sobel(im,cv2.CV_64F,1,0,ksize=3)  # x\n",
    "    sobely = cv2.Sobel(im,cv2.CV_64F,0,1,ksize=3)  # y\n",
    "    return (np.abs(sobelx)+np.abs(sobely))\n",
    "def mse(im1,im2):\n",
    "    return np.square(np.subtract(im1,im2)).mean()\n"
   ]
  },
  {
   "cell_type": "code",
   "execution_count": 225,
   "id": "8adbea5a",
   "metadata": {},
   "outputs": [],
   "source": [
    "from scipy.ndimage import median_filter as median\n",
    "\n",
    "filenames=[\"02_NDD+interne_5-5_1024-1024_1s\",\n",
    "           \"03_NDD+interne_5-5_1024-1024_1s\",\n",
    "           \"04_NDD+interne_5-5_1024-1024_1s\",\n",
    "           \"06_NDD+interne_5-5_1024-1024_1s\"\n",
    "          ]\n",
    "X=[]\n",
    "pathx=\"../Pix2Pix/ConfImages/\"\n",
    "for i in filenames:\n",
    "    X.append(mean(tiff.imread(pathx+i+\".tif\")[...,3],disk(3)))\n"
   ]
  },
  {
   "cell_type": "code",
   "execution_count": 226,
   "id": "f0c9c6d5",
   "metadata": {},
   "outputs": [],
   "source": [
    "filenames=[\"02_NDD+interne_5-5_1024-1024_1s\",\n",
    "           \"03_NDD+interne_5-5_1024-1024_1s\",\n",
    "           \"04_NDD+interne_5-5_1024-1024_1s\",\n",
    "           \"06_NDD+interne_5-5_1024-1024_1s\"\n",
    "          ]\n",
    "Y=[]\n",
    "pathy=\"../Pix2Pix/ConfImages/\"\n",
    "for i in filenames:\n",
    "    Y.append(tiff.imread(pathy+i+\".tif\")[...,2])"
   ]
  },
  {
   "cell_type": "code",
   "execution_count": 227,
   "id": "785e87b0",
   "metadata": {},
   "outputs": [
    {
     "name": "stdout",
     "output_type": "stream",
     "text": [
      "97.6912045288086\n",
      "100.74898963928223\n",
      "54.40177326202392\n",
      "32.76778980255127\n"
     ]
    }
   ],
   "source": [
    "for (i,j) in zip(X,Y):\n",
    "    print(mse(i,j))"
   ]
  },
  {
   "cell_type": "code",
   "execution_count": 228,
   "id": "4da459be",
   "metadata": {},
   "outputs": [
    {
     "name": "stdout",
     "output_type": "stream",
     "text": [
      "4.384170880793937\n",
      "4.570139523096508\n",
      "3.8734269747183414\n",
      "3.965392871443991\n"
     ]
    }
   ],
   "source": [
    "for (i,j) in zip(X,Y):\n",
    "    print(np.log10((mse(contours(i),contours(j)))))"
   ]
  },
  {
   "cell_type": "code",
   "execution_count": 229,
   "id": "875cde15",
   "metadata": {},
   "outputs": [
    {
     "name": "stdout",
     "output_type": "stream",
     "text": [
      "0.20525335170370834\n",
      "0.1447613121740252\n",
      "0.4903535231831153\n",
      "0.36203499080849083\n"
     ]
    }
   ],
   "source": [
    "from skimage.metrics import structural_similarity as ssim\n",
    "\n",
    "for (i,j) in zip(X,Y):\n",
    "    print(ssim(i,j))"
   ]
  },
  {
   "cell_type": "code",
   "execution_count": 230,
   "id": "14ed8b81",
   "metadata": {},
   "outputs": [
    {
     "name": "stdout",
     "output_type": "stream",
     "text": [
      "28.23224896397396\n",
      "28.09839661352874\n",
      "30.77467304821191\n",
      "32.97633211793352\n"
     ]
    }
   ],
   "source": [
    "from math import log10\n",
    "def psnr(im1,im2):\n",
    "    mserr = mse(i,j)\n",
    "    max_pixel = max(np.max(i),np.max(j))\n",
    "    return (20 * log10(max_pixel / np.sqrt(mserr)))\n",
    "\n",
    "for (i,j) in zip(X,Y):\n",
    "    print(psnr(i,j))"
   ]
  },
  {
   "cell_type": "code",
   "execution_count": 231,
   "id": "9650b3f5",
   "metadata": {},
   "outputs": [
    {
     "name": "stdout",
     "output_type": "stream",
     "text": [
      "0.5424088697383901\n",
      "0.5044331150822815\n",
      "1.5454338626181212\n",
      "2.4935110149808506\n"
     ]
    }
   ],
   "source": [
    "for i in X:\n",
    "    print(np.std(i)/np.mean(i))"
   ]
  },
  {
   "cell_type": "code",
   "execution_count": 232,
   "id": "ae38a8e1",
   "metadata": {},
   "outputs": [
    {
     "name": "stdout",
     "output_type": "stream",
     "text": [
      "49.55588729858398\n",
      "50.45797409057617\n",
      "50.849912567138674\n",
      "29.77021255493164\n"
     ]
    }
   ],
   "source": [
    "for i in X:\n",
    "    print(np.mean(contours(i)))"
   ]
  },
  {
   "cell_type": "code",
   "execution_count": null,
   "id": "3693be45",
   "metadata": {},
   "outputs": [],
   "source": []
  },
  {
   "cell_type": "code",
   "execution_count": null,
   "id": "cd1927f9",
   "metadata": {},
   "outputs": [],
   "source": []
  },
  {
   "cell_type": "code",
   "execution_count": null,
   "id": "48283934",
   "metadata": {},
   "outputs": [],
   "source": []
  }
 ],
 "metadata": {
  "kernelspec": {
   "display_name": "Python 3 (ipykernel)",
   "language": "python",
   "name": "python3"
  },
  "language_info": {
   "codemirror_mode": {
    "name": "ipython",
    "version": 3
   },
   "file_extension": ".py",
   "mimetype": "text/x-python",
   "name": "python",
   "nbconvert_exporter": "python",
   "pygments_lexer": "ipython3",
   "version": "3.9.7"
  }
 },
 "nbformat": 4,
 "nbformat_minor": 5
}
