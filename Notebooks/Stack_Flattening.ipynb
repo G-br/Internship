{
 "cells": [
  {
   "cell_type": "code",
   "execution_count": 9,
   "id": "9317a8a8",
   "metadata": {},
   "outputs": [
    {
     "data": {
      "text/plain": [
       "907"
      ]
     },
     "execution_count": 9,
     "metadata": {},
     "output_type": "execute_result"
    }
   ],
   "source": [
    "import numpy as np\n",
    "import tifffile as tiff\n",
    "import gc\n",
    "def untile(im):\n",
    "    nim=[]\n",
    "    n=5\n",
    "    for i in range(n):\n",
    "        for j in range(n):\n",
    "            nim.append(im[:,:,(j)*1024:(j+1)*1024,(i)*1024:(i+1)*1024])\n",
    "    return nim\n",
    "\n",
    "def selmax(im):\n",
    "    nim=np.zeros((25,4,1024,1024))\n",
    "    num=0\n",
    "    for i in im:\n",
    "        nim[num]=i[0]\n",
    "        for j in i:\n",
    "            if np.mean(j[0])>np.mean(nim[num][0]):\n",
    "                nim[num]=j\n",
    "        num+=1\n",
    "    return np.transpose(nim,(0,2,3,1))\n",
    "path = \"../Documents/Microscopie/2022-04-21_BioSamples_Acquisition/\"\n",
    "dataim=[tiff.imread(path + \"01_NDD+interne_5-5_1024-1024_5s.lsm\"),\n",
    "        tiff.imread(path + \"02_NDD+interne_5-5_1024-1024_5s.lsm\"),\n",
    "        tiff.imread(path + \"03_NDD+interne_5-5_1024-1024_5s.lsm\"),\n",
    "        tiff.imread(path + \"04_NDD+interne_5-5_1024-1024_5s.lsm\"),\n",
    "        tiff.imread(path + \"05_NDD+interne_5-5_1024-1024_5s.lsm\"),\n",
    "        tiff.imread(path + \"06_NDD+interne_5-5_1024-1024_5s.lsm\"),\n",
    "        tiff.imread(path + \"07_NDD+interne_5-5_1024-1024_5s.lsm\"),\n",
    "       ]\n",
    "imgs=None\n",
    "for im in dataim:\n",
    "    im2=untile(im)\n",
    "    im3=selmax(im2).astype(\"float32\")\n",
    "    if imgs is None:\n",
    "        imgs=im3\n",
    "    else:imgs=np.concatenate((imgs,im3),axis=0)\n",
    "    del im2,im3\n",
    "del dataim\n",
    "gc.collect()"
   ]
  },
  {
   "cell_type": "code",
   "execution_count": 13,
   "id": "28ffa350",
   "metadata": {},
   "outputs": [
    {
     "name": "stdout",
     "output_type": "stream",
     "text": [
      "(4, 1024, 1024, 4)\n"
     ]
    }
   ],
   "source": [
    "print(np.shape(imgs))"
   ]
  },
  {
   "cell_type": "code",
   "execution_count": 6,
   "id": "b9d75e37",
   "metadata": {},
   "outputs": [],
   "source": [
    "fres=np.zeros([7,5120,5120,4])\n",
    "for k in range(7):\n",
    "    for j in range (5):\n",
    "        for i in range (5):\n",
    "            fres[k,i*1024:i*1024+1024,j*1024:j*1024+1024]=(imgs[25*k+5*j+i])"
   ]
  },
  {
   "cell_type": "code",
   "execution_count": 12,
   "id": "ccd36db2",
   "metadata": {},
   "outputs": [
    {
     "name": "stdout",
     "output_type": "stream",
     "text": [
      "(7, 5120, 5120, 4)\n"
     ]
    }
   ],
   "source": [
    "print(np.shape(fres))"
   ]
  },
  {
   "cell_type": "code",
   "execution_count": 14,
   "id": "0ddbb4e2",
   "metadata": {},
   "outputs": [],
   "source": [
    "for i in range(len(fres)):\n",
    "    tiff.imsave(path+\"0%d_NDD+interne_5-5_1024-1024_1s.tif\"%(i+1),fres[i].astype(\"uint8\"))"
   ]
  }
 ],
 "metadata": {
  "kernelspec": {
   "display_name": "Python 3 (ipykernel)",
   "language": "python",
   "name": "python3"
  },
  "language_info": {
   "codemirror_mode": {
    "name": "ipython",
    "version": 3
   },
   "file_extension": ".py",
   "mimetype": "text/x-python",
   "name": "python",
   "nbconvert_exporter": "python",
   "pygments_lexer": "ipython3",
   "version": "3.9.7"
  }
 },
 "nbformat": 4,
 "nbformat_minor": 5
}
