{
 "cells": [
  {
   "cell_type": "code",
   "execution_count": 65,
   "id": "b95a597c",
   "metadata": {},
   "outputs": [],
   "source": [
    "from PIL import Image\n",
    "from os import listdir\n",
    "from numpy import shape\n",
    "from numpy import concatenate"
   ]
  },
  {
   "cell_type": "code",
   "execution_count": 39,
   "id": "6fb9c4ac",
   "metadata": {},
   "outputs": [],
   "source": [
    "dataim=(listdir(\"follow\"))\n",
    "lb=[]\n",
    "for i in range(len(dataim)):\n",
    "    lb.append(\"cyclofollow\"+str(i)+\".png\")\n",
    "imgs=[]\n",
    "for i in lb:\n",
    "    imgs.append(Image.open(\"follow/\"+i))\n"
   ]
  },
  {
   "cell_type": "code",
   "execution_count": 22,
   "id": "94d9b18e",
   "metadata": {},
   "outputs": [],
   "source": [
    "im = Image.new('RGB', (256,256), (0,0,0))\n",
    "im.save('out.gif', save_all=True, append_images=imgs[:100])"
   ]
  },
  {
   "cell_type": "code",
   "execution_count": 40,
   "id": "e4c893fb",
   "metadata": {},
   "outputs": [],
   "source": [
    "import imageio\n",
    "imageio.mimsave('biout.gif', imgs)"
   ]
  },
  {
   "cell_type": "code",
   "execution_count": 76,
   "id": "749bd704",
   "metadata": {},
   "outputs": [],
   "source": [
    "lb=[]\n",
    "for i in range(0,10,1):\n",
    "    lb.append(\"cyclofollow\"+str(i)+\".png\")\n",
    "for i in range(10,200,5):\n",
    "    lb.append(\"cyclofollow\"+str(i)+\".png\")\n",
    "for i in range(200,1000,20):\n",
    "    lb.append(\"cyclofollow\"+str(i)+\".png\")\n",
    "for i in range(1000,5000,100):\n",
    "    lb.append(\"cyclofollow\"+str(i)+\".png\")\n",
    "imgc=[]\n",
    "for i in lb:\n",
    "    imgc.append(Image.open(\"followc/\"+i))"
   ]
  },
  {
   "cell_type": "code",
   "execution_count": 77,
   "id": "506bd812",
   "metadata": {},
   "outputs": [],
   "source": [
    "lb=[]\n",
    "for i in range(0,10,1):\n",
    "    lb.append(\"pipixfollow\"+str(i)+\".png\")\n",
    "for i in range(10,200,5):\n",
    "    lb.append(\"pipixfollow\"+str(i)+\".png\")\n",
    "for i in range(200,1000,20):\n",
    "    lb.append(\"pipixfollow\"+str(i)+\".png\")\n",
    "for i in range(1000,5000,100):\n",
    "    lb.append(\"pipixfollow\"+str(i)+\".png\")\n",
    "imgp=[]\n",
    "for i in lb:\n",
    "    imgp.append(Image.open(\"follow/\"+i))"
   ]
  },
  {
   "cell_type": "code",
   "execution_count": 73,
   "id": "20b0a681",
   "metadata": {},
   "outputs": [],
   "source": [
    "interne=Image.open(\"followc/acyclofollow0.png\")\n",
    "ndd=Image.open(\"followc/bcyclofollow0.png\")"
   ]
  },
  {
   "cell_type": "code",
   "execution_count": 78,
   "id": "b6d22b14",
   "metadata": {},
   "outputs": [],
   "source": [
    "c1imgs=[]\n",
    "c2imgs=[]\n",
    "cimgs=[]\n",
    "for i in imgp:\n",
    "    c1imgs.append(concatenate((interne,i),axis=1))\n",
    "for i in imgc:\n",
    "    c2imgs.append(concatenate((i,ndd),axis=1))\n",
    "for i,j in zip(c1imgs,c2imgs):\n",
    "    cimgs.append(concatenate((i,j),axis=0))"
   ]
  },
  {
   "cell_type": "code",
   "execution_count": 80,
   "id": "863aab21",
   "metadata": {},
   "outputs": [],
   "source": [
    "import imageio\n",
    "imageio.mimsave('bciout.gif', cimgs)"
   ]
  },
  {
   "cell_type": "code",
   "execution_count": 48,
   "id": "4ac7a32d",
   "metadata": {},
   "outputs": [
    {
     "name": "stdout",
     "output_type": "stream",
     "text": [
      "['cyclofollow0.png', 'cyclofollow1.png', 'cyclofollow2.png', 'cyclofollow3.png', 'cyclofollow4.png', 'cyclofollow5.png', 'cyclofollow6.png', 'cyclofollow7.png', 'cyclofollow8.png', 'cyclofollow9.png', 'cyclofollow10.png', 'cyclofollow60.png', 'cyclofollow110.png', 'cyclofollow160.png', 'cyclofollow210.png', 'cyclofollow260.png', 'cyclofollow310.png', 'cyclofollow360.png', 'cyclofollow410.png', 'cyclofollow460.png', 'cyclofollow510.png', 'cyclofollow560.png', 'cyclofollow610.png', 'cyclofollow660.png', 'cyclofollow710.png', 'cyclofollow760.png', 'cyclofollow810.png', 'cyclofollow860.png', 'cyclofollow910.png', 'cyclofollow960.png', 'cyclofollow100.png', 'cyclofollow200.png', 'cyclofollow300.png', 'cyclofollow400.png', 'cyclofollow500.png', 'cyclofollow600.png', 'cyclofollow700.png', 'cyclofollow800.png', 'cyclofollow900.png', 'cyclofollow1000.png', 'cyclofollow1100.png', 'cyclofollow1200.png', 'cyclofollow1300.png', 'cyclofollow1400.png', 'cyclofollow1500.png', 'cyclofollow1600.png', 'cyclofollow1700.png', 'cyclofollow1800.png', 'cyclofollow1900.png', 'cyclofollow2000.png', 'cyclofollow2100.png', 'cyclofollow2200.png', 'cyclofollow2300.png', 'cyclofollow2400.png', 'cyclofollow2500.png', 'cyclofollow2600.png', 'cyclofollow2700.png', 'cyclofollow2800.png', 'cyclofollow2900.png', 'cyclofollow3000.png', 'cyclofollow3100.png', 'cyclofollow3200.png', 'cyclofollow3300.png', 'cyclofollow3400.png', 'cyclofollow3500.png', 'cyclofollow3600.png', 'cyclofollow3700.png', 'cyclofollow3800.png', 'cyclofollow3900.png', 'cyclofollow4000.png', 'cyclofollow4100.png', 'cyclofollow4200.png', 'cyclofollow4300.png', 'cyclofollow4400.png', 'cyclofollow4500.png', 'cyclofollow4600.png', 'cyclofollow4700.png', 'cyclofollow4800.png', 'cyclofollow4900.png']\n"
     ]
    }
   ],
   "source": [
    "print(lb)"
   ]
  },
  {
   "cell_type": "code",
   "execution_count": null,
   "id": "6a3f689f",
   "metadata": {},
   "outputs": [],
   "source": []
  }
 ],
 "metadata": {
  "kernelspec": {
   "display_name": "Python 3 (ipykernel)",
   "language": "python",
   "name": "python3"
  },
  "language_info": {
   "codemirror_mode": {
    "name": "ipython",
    "version": 3
   },
   "file_extension": ".py",
   "mimetype": "text/x-python",
   "name": "python",
   "nbconvert_exporter": "python",
   "pygments_lexer": "ipython3",
   "version": "3.9.7"
  }
 },
 "nbformat": 4,
 "nbformat_minor": 5
}
