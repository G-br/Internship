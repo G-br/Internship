{
 "cells": [
  {
   "cell_type": "code",
   "execution_count": 1,
   "id": "rzPyZ8yKEK-_",
   "metadata": {
    "colab": {
     "base_uri": "https://localhost:8080/"
    },
    "id": "rzPyZ8yKEK-_",
    "outputId": "d52bc451-0f3c-4498-cbf0-a00cb770b211"
   },
   "outputs": [
    {
     "data": {
      "text/plain": [
       "[name: \"/device:CPU:0\"\n",
       " device_type: \"CPU\"\n",
       " memory_limit: 268435456\n",
       " locality {\n",
       " }\n",
       " incarnation: 335137245857127707\n",
       " xla_global_id: -1, name: \"/device:GPU:0\"\n",
       " device_type: \"GPU\"\n",
       " memory_limit: 11320098816\n",
       " locality {\n",
       "   bus_id: 1\n",
       "   links {\n",
       "   }\n",
       " }\n",
       " incarnation: 2235991955859217124\n",
       " physical_device_desc: \"device: 0, name: Tesla K80, pci bus id: 0000:00:04.0, compute capability: 3.7\"\n",
       " xla_global_id: 416903419]"
      ]
     },
     "execution_count": 1,
     "metadata": {},
     "output_type": "execute_result"
    }
   ],
   "source": [
    "from numba import cuda \n",
    "device = cuda.get_current_device()\n",
    "device.reset()\n",
    "from tensorflow.python.client import device_lib\n",
    "device_lib.list_local_devices()"
   ]
  },
  {
   "cell_type": "code",
   "execution_count": 1,
   "id": "W6_R0r_qEKsw",
   "metadata": {
    "colab": {
     "base_uri": "https://localhost:8080/"
    },
    "id": "W6_R0r_qEKsw",
    "outputId": "389c559a-d6ce-4ac5-f73d-960c3e148e2a"
   },
   "outputs": [
    {
     "name": "stdout",
     "output_type": "stream",
     "text": [
      "Drive already mounted at /content/gdrive/; to attempt to forcibly remount, call drive.mount(\"/content/gdrive/\", force_remount=True).\n"
     ]
    }
   ],
   "source": [
    "from google.colab import drive\n",
    "drive.mount(\"/content/gdrive/\")"
   ]
  },
  {
   "cell_type": "code",
   "execution_count": 1,
   "id": "ZuA68xcUEKMR",
   "metadata": {
    "colab": {
     "base_uri": "https://localhost:8080/"
    },
    "id": "ZuA68xcUEKMR",
    "outputId": "364523a6-1655-4810-d289-34897b0f501b"
   },
   "outputs": [
    {
     "name": "stdout",
     "output_type": "stream",
     "text": [
      "Requirement already satisfied: segmentation_models in c:\\users\\bon\\anaconda3\\envs\\komtuveu\\lib\\site-packages (1.0.1)"
     ]
    },
    {
     "name": "stderr",
     "output_type": "stream",
     "text": [
      "WARNING: Ignoring invalid distribution -encv-python-headless (c:\\users\\bon\\anaconda3\\envs\\komtuveu\\lib\\site-packages)\n",
      "WARNING: Ignoring invalid distribution -pencv-python-headless (c:\\users\\bon\\anaconda3\\envs\\komtuveu\\lib\\site-packages)\n",
      "WARNING: Ignoring invalid distribution - (c:\\users\\bon\\anaconda3\\envs\\komtuveu\\lib\\site-packages)\n",
      "WARNING: Ignoring invalid distribution -encv-python-headless (c:\\users\\bon\\anaconda3\\envs\\komtuveu\\lib\\site-packages)\n",
      "WARNING: Ignoring invalid distribution -encv-python-headless (c:\\users\\bon\\anaconda3\\envs\\komtuveu\\lib\\site-packages)\n",
      "WARNING: Ignoring invalid distribution -pencv-python-headless (c:\\users\\bon\\anaconda3\\envs\\komtuveu\\lib\\site-packages)\n",
      "WARNING: Ignoring invalid distribution - (c:\\users\\bon\\anaconda3\\envs\\komtuveu\\lib\\site-packages)\n",
      "WARNING: Ignoring invalid distribution -encv-python-headless (c:\\users\\bon\\anaconda3\\envs\\komtuveu\\lib\\site-packages)\n",
      "WARNING: Ignoring invalid distribution -encv-python-headless (c:\\users\\bon\\anaconda3\\envs\\komtuveu\\lib\\site-packages)\n",
      "WARNING: Ignoring invalid distribution -pencv-python-headless (c:\\users\\bon\\anaconda3\\envs\\komtuveu\\lib\\site-packages)\n",
      "WARNING: Ignoring invalid distribution - (c:\\users\\bon\\anaconda3\\envs\\komtuveu\\lib\\site-packages)\n",
      "WARNING: Ignoring invalid distribution -encv-python-headless (c:\\users\\bon\\anaconda3\\envs\\komtuveu\\lib\\site-packages)\n",
      "WARNING: Ignoring invalid distribution -encv-python-headless (c:\\users\\bon\\anaconda3\\envs\\komtuveu\\lib\\site-packages)\n",
      "WARNING: Ignoring invalid distribution -pencv-python-headless (c:\\users\\bon\\anaconda3\\envs\\komtuveu\\lib\\site-packages)\n",
      "WARNING: Ignoring invalid distribution - (c:\\users\\bon\\anaconda3\\envs\\komtuveu\\lib\\site-packages)\n",
      "WARNING: Ignoring invalid distribution -encv-python-headless (c:\\users\\bon\\anaconda3\\envs\\komtuveu\\lib\\site-packages)\n",
      "WARNING: Ignoring invalid distribution -encv-python-headless (c:\\users\\bon\\anaconda3\\envs\\komtuveu\\lib\\site-packages)\n",
      "WARNING: Ignoring invalid distribution -pencv-python-headless (c:\\users\\bon\\anaconda3\\envs\\komtuveu\\lib\\site-packages)\n",
      "WARNING: Ignoring invalid distribution - (c:\\users\\bon\\anaconda3\\envs\\komtuveu\\lib\\site-packages)\n",
      "WARNING: Ignoring invalid distribution -encv-python-headless (c:\\users\\bon\\anaconda3\\envs\\komtuveu\\lib\\site-packages)\n",
      "WARNING: Ignoring invalid distribution -encv-python-headless (c:\\users\\bon\\anaconda3\\envs\\komtuveu\\lib\\site-packages)\n",
      "WARNING: Ignoring invalid distribution -pencv-python-headless (c:\\users\\bon\\anaconda3\\envs\\komtuveu\\lib\\site-packages)\n",
      "WARNING: Ignoring invalid distribution - (c:\\users\\bon\\anaconda3\\envs\\komtuveu\\lib\\site-packages)\n",
      "WARNING: Ignoring invalid distribution -encv-python-headless (c:\\users\\bon\\anaconda3\\envs\\komtuveu\\lib\\site-packages)\n"
     ]
    },
    {
     "name": "stdout",
     "output_type": "stream",
     "text": [
      "\n",
      "Requirement already satisfied: keras-applications<=1.0.8,>=1.0.7 in c:\\users\\bon\\anaconda3\\envs\\komtuveu\\lib\\site-packages (from segmentation_models) (1.0.8)\n",
      "Requirement already satisfied: efficientnet==1.0.0 in c:\\users\\bon\\anaconda3\\envs\\komtuveu\\lib\\site-packages (from segmentation_models) (1.0.0)\n",
      "Requirement already satisfied: image-classifiers==1.0.0 in c:\\users\\bon\\anaconda3\\envs\\komtuveu\\lib\\site-packages (from segmentation_models) (1.0.0)\n",
      "Requirement already satisfied: scikit-image in c:\\users\\bon\\anaconda3\\envs\\komtuveu\\lib\\site-packages (from efficientnet==1.0.0->segmentation_models) (0.19.2)\n",
      "Requirement already satisfied: h5py in c:\\users\\bon\\anaconda3\\envs\\komtuveu\\lib\\site-packages (from keras-applications<=1.0.8,>=1.0.7->segmentation_models) (3.6.0)\n",
      "Requirement already satisfied: numpy>=1.9.1 in c:\\users\\bon\\anaconda3\\envs\\komtuveu\\lib\\site-packages (from keras-applications<=1.0.8,>=1.0.7->segmentation_models) (1.22.2)\n",
      "Requirement already satisfied: networkx>=2.2 in c:\\users\\bon\\anaconda3\\envs\\komtuveu\\lib\\site-packages (from scikit-image->efficientnet==1.0.0->segmentation_models) (2.7)\n",
      "Requirement already satisfied: pillow!=7.1.0,!=7.1.1,!=8.3.0,>=6.1.0 in c:\\users\\bon\\anaconda3\\envs\\komtuveu\\lib\\site-packages (from scikit-image->efficientnet==1.0.0->segmentation_models) (9.0.1)\n",
      "Requirement already satisfied: PyWavelets>=1.1.1 in c:\\users\\bon\\anaconda3\\envs\\komtuveu\\lib\\site-packages (from scikit-image->efficientnet==1.0.0->segmentation_models) (1.2.0)\n",
      "Requirement already satisfied: scipy>=1.4.1 in c:\\users\\bon\\anaconda3\\envs\\komtuveu\\lib\\site-packages (from scikit-image->efficientnet==1.0.0->segmentation_models) (1.8.0)\n",
      "Requirement already satisfied: packaging>=20.0 in c:\\users\\bon\\anaconda3\\envs\\komtuveu\\lib\\site-packages (from scikit-image->efficientnet==1.0.0->segmentation_models) (21.3)\n",
      "Requirement already satisfied: tifffile>=2019.7.26 in c:\\users\\bon\\anaconda3\\envs\\komtuveu\\lib\\site-packages (from scikit-image->efficientnet==1.0.0->segmentation_models) (2022.2.9)\n",
      "Requirement already satisfied: imageio>=2.4.1 in c:\\users\\bon\\anaconda3\\envs\\komtuveu\\lib\\site-packages (from scikit-image->efficientnet==1.0.0->segmentation_models) (2.16.1)\n",
      "Requirement already satisfied: pyparsing!=3.0.5,>=2.0.2 in c:\\users\\bon\\anaconda3\\envs\\komtuveu\\lib\\site-packages (from packaging>=20.0->scikit-image->efficientnet==1.0.0->segmentation_models) (3.0.7)\n",
      "Requirement already satisfied: matplotlib==3.5.1 in c:\\users\\bon\\anaconda3\\envs\\komtuveu\\lib\\site-packages (3.5.1)\n",
      "Requirement already satisfied: packaging>=20.0 in c:\\users\\bon\\anaconda3\\envs\\komtuveu\\lib\\site-packages (from matplotlib==3.5.1) (21.3)\n",
      "Requirement already satisfied: numpy>=1.17 in c:\\users\\bon\\anaconda3\\envs\\komtuveu\\lib\\site-packages (from matplotlib==3.5.1) (1.22.2)\n",
      "Requirement already satisfied: pillow>=6.2.0 in c:\\users\\bon\\anaconda3\\envs\\komtuveu\\lib\\site-packages (from matplotlib==3.5.1) (9.0.1)\n",
      "Requirement already satisfied: kiwisolver>=1.0.1 in c:\\users\\bon\\anaconda3\\envs\\komtuveu\\lib\\site-packages (from matplotlib==3.5.1) (1.3.2)\n",
      "Requirement already satisfied: cycler>=0.10 in c:\\users\\bon\\anaconda3\\envs\\komtuveu\\lib\\site-packages (from matplotlib==3.5.1) (0.11.0)\n",
      "Requirement already satisfied: python-dateutil>=2.7 in c:\\users\\bon\\anaconda3\\envs\\komtuveu\\lib\\site-packages (from matplotlib==3.5.1) (2.8.2)\n",
      "Requirement already satisfied: pyparsing>=2.2.1 in c:\\users\\bon\\anaconda3\\envs\\komtuveu\\lib\\site-packages (from matplotlib==3.5.1) (3.0.7)\n",
      "Requirement already satisfied: fonttools>=4.22.0 in c:\\users\\bon\\anaconda3\\envs\\komtuveu\\lib\\site-packages (from matplotlib==3.5.1) (4.25.0)\n",
      "Requirement already satisfied: six>=1.5 in c:\\users\\bon\\anaconda3\\envs\\komtuveu\\lib\\site-packages (from python-dateutil>=2.7->matplotlib==3.5.1) (1.16.0)\n"
     ]
    },
    {
     "name": "stderr",
     "output_type": "stream",
     "text": [
      "WARNING: Ignoring invalid distribution -encv-python-headless (c:\\users\\bon\\anaconda3\\envs\\komtuveu\\lib\\site-packages)\n",
      "WARNING: Ignoring invalid distribution -pencv-python-headless (c:\\users\\bon\\anaconda3\\envs\\komtuveu\\lib\\site-packages)\n",
      "WARNING: Ignoring invalid distribution - (c:\\users\\bon\\anaconda3\\envs\\komtuveu\\lib\\site-packages)\n",
      "WARNING: Ignoring invalid distribution -encv-python-headless (c:\\users\\bon\\anaconda3\\envs\\komtuveu\\lib\\site-packages)\n",
      "WARNING: Ignoring invalid distribution -encv-python-headless (c:\\users\\bon\\anaconda3\\envs\\komtuveu\\lib\\site-packages)\n",
      "WARNING: Ignoring invalid distribution -pencv-python-headless (c:\\users\\bon\\anaconda3\\envs\\komtuveu\\lib\\site-packages)\n",
      "WARNING: Ignoring invalid distribution - (c:\\users\\bon\\anaconda3\\envs\\komtuveu\\lib\\site-packages)\n",
      "WARNING: Ignoring invalid distribution -encv-python-headless (c:\\users\\bon\\anaconda3\\envs\\komtuveu\\lib\\site-packages)\n",
      "WARNING: Ignoring invalid distribution -encv-python-headless (c:\\users\\bon\\anaconda3\\envs\\komtuveu\\lib\\site-packages)\n",
      "WARNING: Ignoring invalid distribution -pencv-python-headless (c:\\users\\bon\\anaconda3\\envs\\komtuveu\\lib\\site-packages)\n",
      "WARNING: Ignoring invalid distribution - (c:\\users\\bon\\anaconda3\\envs\\komtuveu\\lib\\site-packages)\n",
      "WARNING: Ignoring invalid distribution -encv-python-headless (c:\\users\\bon\\anaconda3\\envs\\komtuveu\\lib\\site-packages)\n",
      "WARNING: Ignoring invalid distribution -encv-python-headless (c:\\users\\bon\\anaconda3\\envs\\komtuveu\\lib\\site-packages)\n",
      "WARNING: Ignoring invalid distribution -pencv-python-headless (c:\\users\\bon\\anaconda3\\envs\\komtuveu\\lib\\site-packages)\n",
      "WARNING: Ignoring invalid distribution - (c:\\users\\bon\\anaconda3\\envs\\komtuveu\\lib\\site-packages)\n",
      "WARNING: Ignoring invalid distribution -encv-python-headless (c:\\users\\bon\\anaconda3\\envs\\komtuveu\\lib\\site-packages)\n",
      "WARNING: Ignoring invalid distribution -encv-python-headless (c:\\users\\bon\\anaconda3\\envs\\komtuveu\\lib\\site-packages)\n",
      "WARNING: Ignoring invalid distribution -pencv-python-headless (c:\\users\\bon\\anaconda3\\envs\\komtuveu\\lib\\site-packages)\n",
      "WARNING: Ignoring invalid distribution - (c:\\users\\bon\\anaconda3\\envs\\komtuveu\\lib\\site-packages)\n",
      "WARNING: Ignoring invalid distribution -encv-python-headless (c:\\users\\bon\\anaconda3\\envs\\komtuveu\\lib\\site-packages)\n",
      "WARNING: Ignoring invalid distribution -encv-python-headless (c:\\users\\bon\\anaconda3\\envs\\komtuveu\\lib\\site-packages)\n",
      "WARNING: Ignoring invalid distribution -pencv-python-headless (c:\\users\\bon\\anaconda3\\envs\\komtuveu\\lib\\site-packages)\n",
      "WARNING: Ignoring invalid distribution - (c:\\users\\bon\\anaconda3\\envs\\komtuveu\\lib\\site-packages)\n",
      "WARNING: Ignoring invalid distribution -encv-python-headless (c:\\users\\bon\\anaconda3\\envs\\komtuveu\\lib\\site-packages)\n"
     ]
    },
    {
     "name": "stdout",
     "output_type": "stream",
     "text": [
      "Collecting opencv-python-headless<4.3\n",
      "  Using cached opencv_python_headless-3.4.17.63-cp36-abi3-win_amd64.whl (31.2 MB)\n",
      "Requirement already satisfied: numpy>=1.19.3 in c:\\users\\bon\\anaconda3\\envs\\komtuveu\\lib\\site-packages (from opencv-python-headless<4.3) (1.22.2)\n",
      "Installing collected packages: opencv-python-headless\n",
      "  Attempting uninstall: opencv-python-headless\n",
      "    Found existing installation: opencv-python-headless 4.5.5.64\n",
      "    Uninstalling opencv-python-headless-4.5.5.64:\n",
      "      Successfully uninstalled opencv-python-headless-4.5.5.64\n",
      "Successfully installed opencv-python-headless-3.4.17.63\n"
     ]
    },
    {
     "name": "stderr",
     "output_type": "stream",
     "text": [
      "WARNING: Ignoring invalid distribution -encv-python-headless (c:\\users\\bon\\anaconda3\\envs\\komtuveu\\lib\\site-packages)\n",
      "WARNING: Ignoring invalid distribution -pencv-python-headless (c:\\users\\bon\\anaconda3\\envs\\komtuveu\\lib\\site-packages)\n",
      "WARNING: Ignoring invalid distribution - (c:\\users\\bon\\anaconda3\\envs\\komtuveu\\lib\\site-packages)\n",
      "WARNING: Ignoring invalid distribution -encv-python-headless (c:\\users\\bon\\anaconda3\\envs\\komtuveu\\lib\\site-packages)\n",
      "WARNING: Ignoring invalid distribution -encv-python-headless (c:\\users\\bon\\anaconda3\\envs\\komtuveu\\lib\\site-packages)\n",
      "WARNING: Ignoring invalid distribution -pencv-python-headless (c:\\users\\bon\\anaconda3\\envs\\komtuveu\\lib\\site-packages)\n",
      "WARNING: Ignoring invalid distribution - (c:\\users\\bon\\anaconda3\\envs\\komtuveu\\lib\\site-packages)\n",
      "WARNING: Ignoring invalid distribution -encv-python-headless (c:\\users\\bon\\anaconda3\\envs\\komtuveu\\lib\\site-packages)\n",
      "WARNING: Ignoring invalid distribution -encv-python-headless (c:\\users\\bon\\anaconda3\\envs\\komtuveu\\lib\\site-packages)\n",
      "WARNING: Ignoring invalid distribution -pencv-python-headless (c:\\users\\bon\\anaconda3\\envs\\komtuveu\\lib\\site-packages)\n",
      "WARNING: Ignoring invalid distribution - (c:\\users\\bon\\anaconda3\\envs\\komtuveu\\lib\\site-packages)\n",
      "WARNING: Ignoring invalid distribution -encv-python-headless (c:\\users\\bon\\anaconda3\\envs\\komtuveu\\lib\\site-packages)\n",
      "    WARNING: Ignoring invalid distribution -encv-python-headless (c:\\users\\bon\\anaconda3\\envs\\komtuveu\\lib\\site-packages)\n",
      "    WARNING: Ignoring invalid distribution -pencv-python-headless (c:\\users\\bon\\anaconda3\\envs\\komtuveu\\lib\\site-packages)\n",
      "    WARNING: Ignoring invalid distribution - (c:\\users\\bon\\anaconda3\\envs\\komtuveu\\lib\\site-packages)\n",
      "    WARNING: Ignoring invalid distribution -encv-python-headless (c:\\users\\bon\\anaconda3\\envs\\komtuveu\\lib\\site-packages)\n",
      "WARNING: Ignoring invalid distribution -encv-python-headless (c:\\users\\bon\\anaconda3\\envs\\komtuveu\\lib\\site-packages)\n",
      "WARNING: Ignoring invalid distribution -pencv-python-headless (c:\\users\\bon\\anaconda3\\envs\\komtuveu\\lib\\site-packages)\n",
      "WARNING: Ignoring invalid distribution - (c:\\users\\bon\\anaconda3\\envs\\komtuveu\\lib\\site-packages)\n",
      "WARNING: Ignoring invalid distribution -encv-python-headless (c:\\users\\bon\\anaconda3\\envs\\komtuveu\\lib\\site-packages)\n",
      "ERROR: pip's dependency resolver does not currently take into account all the packages that are installed. This behaviour is the source of the following dependency conflicts.\n",
      "qudida 0.0.4 requires opencv-python-headless>=4.0.1, but you have opencv-python-headless 3.4.17.63 which is incompatible.\n",
      "albumentations 1.1.0 requires opencv-python-headless>=4.1.1, but you have opencv-python-headless 3.4.17.63 which is incompatible.\n",
      "WARNING: Ignoring invalid distribution -encv-python-headless (c:\\users\\bon\\anaconda3\\envs\\komtuveu\\lib\\site-packages)\n",
      "WARNING: Ignoring invalid distribution -pencv-python-headless (c:\\users\\bon\\anaconda3\\envs\\komtuveu\\lib\\site-packages)\n",
      "WARNING: Ignoring invalid distribution - (c:\\users\\bon\\anaconda3\\envs\\komtuveu\\lib\\site-packages)\n",
      "WARNING: Ignoring invalid distribution -encv-python-headless (c:\\users\\bon\\anaconda3\\envs\\komtuveu\\lib\\site-packages)\n",
      "WARNING: Ignoring invalid distribution -encv-python-headless (c:\\users\\bon\\anaconda3\\envs\\komtuveu\\lib\\site-packages)\n",
      "WARNING: Ignoring invalid distribution -pencv-python-headless (c:\\users\\bon\\anaconda3\\envs\\komtuveu\\lib\\site-packages)\n",
      "WARNING: Ignoring invalid distribution - (c:\\users\\bon\\anaconda3\\envs\\komtuveu\\lib\\site-packages)\n",
      "WARNING: Ignoring invalid distribution -encv-python-headless (c:\\users\\bon\\anaconda3\\envs\\komtuveu\\lib\\site-packages)\n",
      "WARNING: Ignoring invalid distribution -encv-python-headless (c:\\users\\bon\\anaconda3\\envs\\komtuveu\\lib\\site-packages)\n",
      "WARNING: Ignoring invalid distribution -pencv-python-headless (c:\\users\\bon\\anaconda3\\envs\\komtuveu\\lib\\site-packages)\n",
      "WARNING: Ignoring invalid distribution - (c:\\users\\bon\\anaconda3\\envs\\komtuveu\\lib\\site-packages)\n",
      "WARNING: Ignoring invalid distribution -encv-python-headless (c:\\users\\bon\\anaconda3\\envs\\komtuveu\\lib\\site-packages)\n"
     ]
    },
    {
     "name": "stdout",
     "output_type": "stream",
     "text": [
      "Requirement already satisfied: albumentations==1.1.0 in c:\\users\\bon\\anaconda3\\envs\\komtuveu\\lib\\site-packages (1.1.0)\n",
      "Requirement already satisfied: scipy in c:\\users\\bon\\anaconda3\\envs\\komtuveu\\lib\\site-packages (from albumentations==1.1.0) (1.8.0)\n",
      "Requirement already satisfied: qudida>=0.0.4 in c:\\users\\bon\\anaconda3\\envs\\komtuveu\\lib\\site-packages (from albumentations==1.1.0) (0.0.4)\n",
      "Requirement already satisfied: PyYAML in c:\\users\\bon\\anaconda3\\envs\\komtuveu\\lib\\site-packages (from albumentations==1.1.0) (6.0)\n",
      "Collecting opencv-python-headless>=4.1.1\n",
      "  Using cached opencv_python_headless-4.5.5.64-cp36-abi3-win_amd64.whl (35.3 MB)\n",
      "Requirement already satisfied: numpy>=1.11.1 in c:\\users\\bon\\anaconda3\\envs\\komtuveu\\lib\\site-packages (from albumentations==1.1.0) (1.22.2)\n",
      "Requirement already satisfied: scikit-image>=0.16.1 in c:\\users\\bon\\anaconda3\\envs\\komtuveu\\lib\\site-packages (from albumentations==1.1.0) (0.19.2)"
     ]
    },
    {
     "name": "stderr",
     "output_type": "stream",
     "text": [
      "WARNING: Ignoring invalid distribution -encv-python-headless (c:\\users\\bon\\anaconda3\\envs\\komtuveu\\lib\\site-packages)\n",
      "WARNING: Ignoring invalid distribution -pencv-python-headless (c:\\users\\bon\\anaconda3\\envs\\komtuveu\\lib\\site-packages)\n",
      "WARNING: Ignoring invalid distribution - (c:\\users\\bon\\anaconda3\\envs\\komtuveu\\lib\\site-packages)\n",
      "WARNING: Ignoring invalid distribution -encv-python-headless (c:\\users\\bon\\anaconda3\\envs\\komtuveu\\lib\\site-packages)\n",
      "WARNING: Ignoring invalid distribution -encv-python-headless (c:\\users\\bon\\anaconda3\\envs\\komtuveu\\lib\\site-packages)\n",
      "WARNING: Ignoring invalid distribution -pencv-python-headless (c:\\users\\bon\\anaconda3\\envs\\komtuveu\\lib\\site-packages)\n",
      "WARNING: Ignoring invalid distribution - (c:\\users\\bon\\anaconda3\\envs\\komtuveu\\lib\\site-packages)\n",
      "WARNING: Ignoring invalid distribution -encv-python-headless (c:\\users\\bon\\anaconda3\\envs\\komtuveu\\lib\\site-packages)\n",
      "WARNING: Ignoring invalid distribution -encv-python-headless (c:\\users\\bon\\anaconda3\\envs\\komtuveu\\lib\\site-packages)\n",
      "WARNING: Ignoring invalid distribution -pencv-python-headless (c:\\users\\bon\\anaconda3\\envs\\komtuveu\\lib\\site-packages)\n",
      "WARNING: Ignoring invalid distribution - (c:\\users\\bon\\anaconda3\\envs\\komtuveu\\lib\\site-packages)\n",
      "WARNING: Ignoring invalid distribution -encv-python-headless (c:\\users\\bon\\anaconda3\\envs\\komtuveu\\lib\\site-packages)\n",
      "    WARNING: Ignoring invalid distribution -encv-python-headless (c:\\users\\bon\\anaconda3\\envs\\komtuveu\\lib\\site-packages)\n",
      "    WARNING: Ignoring invalid distribution -pencv-python-headless (c:\\users\\bon\\anaconda3\\envs\\komtuveu\\lib\\site-packages)\n",
      "    WARNING: Ignoring invalid distribution - (c:\\users\\bon\\anaconda3\\envs\\komtuveu\\lib\\site-packages)\n",
      "    WARNING: Ignoring invalid distribution -encv-python-headless (c:\\users\\bon\\anaconda3\\envs\\komtuveu\\lib\\site-packages)\n",
      "WARNING: Ignoring invalid distribution -encv-python-headless (c:\\users\\bon\\anaconda3\\envs\\komtuveu\\lib\\site-packages)\n",
      "WARNING: Ignoring invalid distribution -pencv-python-headless (c:\\users\\bon\\anaconda3\\envs\\komtuveu\\lib\\site-packages)\n",
      "WARNING: Ignoring invalid distribution - (c:\\users\\bon\\anaconda3\\envs\\komtuveu\\lib\\site-packages)\n",
      "WARNING: Ignoring invalid distribution -encv-python-headless (c:\\users\\bon\\anaconda3\\envs\\komtuveu\\lib\\site-packages)\n",
      "WARNING: Ignoring invalid distribution -encv-python-headless (c:\\users\\bon\\anaconda3\\envs\\komtuveu\\lib\\site-packages)\n",
      "WARNING: Ignoring invalid distribution -pencv-python-headless (c:\\users\\bon\\anaconda3\\envs\\komtuveu\\lib\\site-packages)\n",
      "WARNING: Ignoring invalid distribution - (c:\\users\\bon\\anaconda3\\envs\\komtuveu\\lib\\site-packages)\n",
      "WARNING: Ignoring invalid distribution -encv-python-headless (c:\\users\\bon\\anaconda3\\envs\\komtuveu\\lib\\site-packages)\n",
      "WARNING: Ignoring invalid distribution -encv-python-headless (c:\\users\\bon\\anaconda3\\envs\\komtuveu\\lib\\site-packages)\n",
      "WARNING: Ignoring invalid distribution -pencv-python-headless (c:\\users\\bon\\anaconda3\\envs\\komtuveu\\lib\\site-packages)\n",
      "WARNING: Ignoring invalid distribution - (c:\\users\\bon\\anaconda3\\envs\\komtuveu\\lib\\site-packages)\n",
      "WARNING: Ignoring invalid distribution -encv-python-headless (c:\\users\\bon\\anaconda3\\envs\\komtuveu\\lib\\site-packages)\n",
      "WARNING: Ignoring invalid distribution -encv-python-headless (c:\\users\\bon\\anaconda3\\envs\\komtuveu\\lib\\site-packages)\n",
      "WARNING: Ignoring invalid distribution -pencv-python-headless (c:\\users\\bon\\anaconda3\\envs\\komtuveu\\lib\\site-packages)\n",
      "WARNING: Ignoring invalid distribution - (c:\\users\\bon\\anaconda3\\envs\\komtuveu\\lib\\site-packages)\n",
      "WARNING: Ignoring invalid distribution -encv-python-headless (c:\\users\\bon\\anaconda3\\envs\\komtuveu\\lib\\site-packages)\n"
     ]
    },
    {
     "name": "stdout",
     "output_type": "stream",
     "text": [
      "\n",
      "Requirement already satisfied: typing-extensions in c:\\users\\bon\\anaconda3\\envs\\komtuveu\\lib\\site-packages (from qudida>=0.0.4->albumentations==1.1.0) (4.1.1)\n",
      "Requirement already satisfied: scikit-learn>=0.19.1 in c:\\users\\bon\\anaconda3\\envs\\komtuveu\\lib\\site-packages (from qudida>=0.0.4->albumentations==1.1.0) (1.0.2)\n",
      "Requirement already satisfied: imageio>=2.4.1 in c:\\users\\bon\\anaconda3\\envs\\komtuveu\\lib\\site-packages (from scikit-image>=0.16.1->albumentations==1.1.0) (2.16.1)\n",
      "Requirement already satisfied: tifffile>=2019.7.26 in c:\\users\\bon\\anaconda3\\envs\\komtuveu\\lib\\site-packages (from scikit-image>=0.16.1->albumentations==1.1.0) (2022.2.9)\n",
      "Requirement already satisfied: packaging>=20.0 in c:\\users\\bon\\anaconda3\\envs\\komtuveu\\lib\\site-packages (from scikit-image>=0.16.1->albumentations==1.1.0) (21.3)\n",
      "Requirement already satisfied: networkx>=2.2 in c:\\users\\bon\\anaconda3\\envs\\komtuveu\\lib\\site-packages (from scikit-image>=0.16.1->albumentations==1.1.0) (2.7)\n",
      "Requirement already satisfied: pillow!=7.1.0,!=7.1.1,!=8.3.0,>=6.1.0 in c:\\users\\bon\\anaconda3\\envs\\komtuveu\\lib\\site-packages (from scikit-image>=0.16.1->albumentations==1.1.0) (9.0.1)\n",
      "Requirement already satisfied: PyWavelets>=1.1.1 in c:\\users\\bon\\anaconda3\\envs\\komtuveu\\lib\\site-packages (from scikit-image>=0.16.1->albumentations==1.1.0) (1.2.0)\n",
      "Requirement already satisfied: pyparsing!=3.0.5,>=2.0.2 in c:\\users\\bon\\anaconda3\\envs\\komtuveu\\lib\\site-packages (from packaging>=20.0->scikit-image>=0.16.1->albumentations==1.1.0) (3.0.7)\n",
      "Requirement already satisfied: joblib>=0.11 in c:\\users\\bon\\anaconda3\\envs\\komtuveu\\lib\\site-packages (from scikit-learn>=0.19.1->qudida>=0.0.4->albumentations==1.1.0) (1.1.0)\n",
      "Requirement already satisfied: threadpoolctl>=2.0.0 in c:\\users\\bon\\anaconda3\\envs\\komtuveu\\lib\\site-packages (from scikit-learn>=0.19.1->qudida>=0.0.4->albumentations==1.1.0) (3.1.0)\n",
      "Installing collected packages: opencv-python-headless\n",
      "  Attempting uninstall: opencv-python-headless\n",
      "    Found existing installation: opencv-python-headless 3.4.17.63\n",
      "    Uninstalling opencv-python-headless-3.4.17.63:\n",
      "      Successfully uninstalled opencv-python-headless-3.4.17.63\n",
      "Successfully installed opencv-python-headless-4.5.5.64\n"
     ]
    }
   ],
   "source": [
    "!pip install segmentation_models\n",
    "!pip install matplotlib==3.5.1\n",
    "!pip install \"opencv-python-headless<4.3\"\n",
    "!pip install albumentations==1.1.0"
   ]
  },
  {
   "cell_type": "code",
   "execution_count": 2,
   "id": "2203554c",
   "metadata": {
    "colab": {
     "base_uri": "https://localhost:8080/"
    },
    "id": "2203554c",
    "outputId": "2c23aae8-d7d1-4f17-87d6-63863a0793e3"
   },
   "outputs": [
    {
     "name": "stdout",
     "output_type": "stream",
     "text": [
      "env: SM_FRAMEWORK=tf.keras\n",
      "Segmentation Models: using `tf.keras` framework.\n"
     ]
    }
   ],
   "source": [
    "%env SM_FRAMEWORK=tf.keras\n",
    "\n",
    "import albumentations as A\n",
    "import cv2\n",
    "import gc\n",
    "import matplotlib.pyplot as plt\n",
    "import numpy as np\n",
    "import segmentation_models as sm\n",
    "from segmentation_models import Unet\n",
    "from segmentation_models import get_preprocessing\n",
    "#from segmentation_models.metrics import iou_score\n",
    "from sklearn.model_selection import train_test_split\n",
    "import tensorflow as tf\n",
    "from tensorflow.keras.losses import MeanSquaredError as mse_loss\n",
    "from keras.models import Model\n",
    "from tensorflow.keras.optimizers import Adam\n",
    "from tensorflow.keras.utils import Sequence\n",
    "import tifffile as tiff\n",
    "import time"
   ]
  },
  {
   "cell_type": "code",
   "execution_count": 2,
   "id": "1dcec5d1",
   "metadata": {
    "colab": {
     "base_uri": "https://localhost:8080/"
    },
    "id": "1dcec5d1",
    "outputId": "bc958142-97e9-4d81-e032-044601435279"
   },
   "outputs": [
    {
     "name": "stderr",
     "output_type": "stream",
     "text": [
      "C:\\Users\\bon\\Anaconda3\\envs\\komtuveu\\lib\\site-packages\\albumentations\\augmentations\\transforms.py:689: FutureWarning: This class has been deprecated. Please use CoarseDropout\n",
      "  warnings.warn(\n"
     ]
    }
   ],
   "source": [
    "AUGMENTATIONS_TRAIN =A.Compose([\n",
    "                                A.OneOf([\n",
    "                                         A.ShiftScaleRotate (p=.8),\n",
    "                                         A.ElasticTransform (p=.8),\n",
    "                                         A.OpticalDistortion(p=.8),\n",
    "                                         A.GridDistortion   (p=.8)\n",
    "                                         ]),\n",
    "                                #A.RandomGamma(p=.2),\n",
    "                                #A.InvertImg(p=.5),\n",
    "                                A.RandomGridShuffle(p=.3),\n",
    "                                A.HorizontalFlip(p=.5),\n",
    "                                #A.CLAHE(p=.2),\n",
    "                                #A.Downscale(p=.1),\n",
    "                                #A.Blur(p=.3), #?\n",
    "                                A.Cutout(p=.2),\n",
    "                                #A.GaussNoise(p=.3) #?\n",
    "                                ])\n",
    "\n",
    "AUGMENTATIONS_TEST = A.Compose([\n",
    "                                # A.ToFloat(max_value=255)\n",
    "                                A.NoOp()\n",
    "                                ])"
   ]
  },
  {
   "cell_type": "code",
   "execution_count": 3,
   "id": "91ed9070",
   "metadata": {
    "id": "91ed9070"
   },
   "outputs": [],
   "source": [
    "def mse(y_true, y_pred):\n",
    "  mse = mse_loss()\n",
    "  return mse(y_true, y_pred)"
   ]
  },
  {
   "cell_type": "code",
   "execution_count": 4,
   "id": "97a5dce2",
   "metadata": {
    "colab": {
     "base_uri": "https://localhost:8080/"
    },
    "id": "97a5dce2",
    "outputId": "e71d6aea-3df7-455d-85cf-72dd91966a8f"
   },
   "outputs": [
    {
     "data": {
      "text/plain": [
       "437"
      ]
     },
     "execution_count": 4,
     "metadata": {},
     "output_type": "execute_result"
    }
   ],
   "source": [
    "def untile(im):\n",
    "    nim=[]\n",
    "    for i in range(5):\n",
    "        for j in range(5):\n",
    "            nim.append(im[:,:,(j)*1024:(j+1)*1024,(i)*1024:(i+1)*1024])\n",
    "    return nim\n",
    "\n",
    "def selmax(im):\n",
    "    nim=np.zeros((25,4,1024,1024))\n",
    "    num=0\n",
    "    for i in im:\n",
    "        nim[num]=i[0]\n",
    "        for j in i:\n",
    "            if np.mean(j[0])>np.mean(nim[num][0]):\n",
    "                nim[num]=j\n",
    "        num+=1\n",
    "    return np.transpose(nim,(0,2,3,1))\n",
    "\n",
    "dataim=[tiff.imread(\"../Documents/Microscopie/2022-04-21_BioSamples_Acquisition/01_NDD+interne_5-5_1024-1024_5s.lsm\"),\n",
    "        tiff.imread(\"../Documents/Microscopie/2022-04-21_BioSamples_Acquisition/05_NDD+interne_5-5_1024-1024_5s.lsm\"),\n",
    "        tiff.imread(\"../Documents/Microscopie/2022-04-21_BioSamples_Acquisition/07_NDD+interne_5-5_1024-1024_5s.lsm\")]\n",
    "imgs=None\n",
    "for im in dataim:\n",
    "    im2=untile(im)\n",
    "    im3=selmax(im2)\n",
    "    if imgs is None:\n",
    "        imgs=im3\n",
    "    else:imgs=np.concatenate((imgs,im3),axis=0)\n",
    "    del im2,im3\n",
    "del dataim\n",
    "gc.collect()"
   ]
  },
  {
   "cell_type": "code",
   "execution_count": 33,
   "id": "cc762bbf",
   "metadata": {},
   "outputs": [
    {
     "name": "stdout",
     "output_type": "stream",
     "text": [
      "(1, 4, 5120, 5120)\n"
     ]
    }
   ],
   "source": [
    "print(np.expand_dims(im[0],axis=0).shape)"
   ]
  },
  {
   "cell_type": "code",
   "execution_count": 11,
   "id": "7068deee",
   "metadata": {
    "colab": {
     "base_uri": "https://localhost:8080/"
    },
    "id": "7068deee",
    "outputId": "46d17f67-be3c-414a-8d4c-55552d60a0e3"
   },
   "outputs": [
    {
     "data": {
      "text/plain": [
       "0"
      ]
     },
     "execution_count": 11,
     "metadata": {},
     "output_type": "execute_result"
    }
   ],
   "source": [
    "imshape=np.shape(np.expand_dims(imgs[0,:,:,0],axis=-1))\n",
    "nddr=np.expand_dims(imgs[...,0],axis=3)\n",
    "nddg=np.expand_dims(imgs[...,1],axis=3)\n",
    "intg=np.expand_dims(imgs[...,2],axis=3)\n",
    "intr=np.expand_dims(imgs[...,3],axis=3)\n",
    "X=np.concatenate((intg,intr),axis=0)\n",
    "Y=np.concatenate((nddg,nddr),axis=0)\n",
    "X=np.concatenate((X,X,X),axis=3)\n",
    "Y=np.concatenate((Y,Y,Y),axis=3)\n",
    "np.random.seed(seed=42)\n",
    "index=np.random.permutation(len(X))\n",
    "X=X[index]\n",
    "Y=Y[index]\n",
    "sep=int((3/4)*len(X))\n",
    "x_train,x_valid,y_train,y_valid=X[:sep],X[sep:],Y[:sep],Y[sep:]\n",
    "del X,Y\n",
    "del imgs,nddr,nddg,intg,intr\n",
    "gc.collect()"
   ]
  },
  {
   "cell_type": "code",
   "execution_count": 8,
   "id": "67b7f335",
   "metadata": {
    "id": "67b7f335"
   },
   "outputs": [],
   "source": [
    "import cv2\n",
    "import numpy as np\n",
    "import matplotlib.pyplot as plt\n",
    "\n",
    "class Tile:\n",
    "    '''\n",
    "    Usage    : Tile(image,tilesize,overlap,verbose)\n",
    "    image    : Array of shape [height,width,canals]\n",
    "    tilesize : The output will be of shape [tilesize,tilesize,canals]\n",
    "    overlap  : Amount of pixel common between two consecutive tiles\n",
    "    ================================================================\n",
    "    Methods  :\n",
    "    padding(mode=\"reflect\"): Returns a padded image via numpy.pad usage\n",
    "    tilegeneration()       : Returns a list parts of original image(tiles)\n",
    "    tilevis(concat=True)   : Plots the tiles list for the image\n",
    "    detmask()              : Returns the mask of overlapping areas\n",
    "    reconstruct()          : Builds the image back out of the tile list   \n",
    "    '''\n",
    "    \n",
    "    def __init__(self, image, tilesize=None,overlap=None,verbose=False):\n",
    "        \n",
    "        self.im = image\n",
    "        self.s  = np.shape(self.im)[:2]\n",
    "        if tilesize is None:tilesize=self.s[0]//4\n",
    "        self.t  = tilesize\n",
    "        if overlap is None :overlap =tilesize//4\n",
    "        self.o  = overlap\n",
    "        self.verbose=verbose\n",
    "        self.verdata()\n",
    "        self.to = self.t-self.o\n",
    "        self.nbt= [(self.s[0]-self.o)//self.to+1,(self.s[1]-self.o)//self.to+1]\n",
    "        self.p  = None\n",
    "        self.pIm= None\n",
    "        self.tl = None\n",
    "        \n",
    "    def verdata(self):\n",
    "        if (np.shape(self.im)[0]%2)!=0:\n",
    "            if self.verbose:print(\"Changing image to an even dimension value, one pixel was removed on axis zero.\")\n",
    "            self.im=self.im[:-1]\n",
    "        if (np.shape(self.im)[1]%2)!=0:\n",
    "            if self.verbose:print(\"Changing image to an even dimension value, one pixel was removed on axis one.\")\n",
    "            self.im=self.im[:,:-1]\n",
    "        if self.o%2!=0:\n",
    "            if self.verbose:print(\"Please use even value for overlap, overlap was reduced by one.\")\n",
    "            self.o-=1\n",
    "        if self.t>np.shape(self.im)[0] or self.t>np.shape(self.im)[1]:\n",
    "            if self.verbose:print(\"You probably didn't do what you want, you will just have one padded image. (Tile size larger than image)\")\n",
    "                      \n",
    "    def detpad(self):\n",
    "        psize=[(self.nbt[0]*self.to+self.o)-self.s[0],(self.nbt[1]*self.to+self.o)-self.s[1]]\n",
    "        for i in range(len(psize)):\n",
    "            if  psize[i]==self.to:\n",
    "                psize[i]%=self.to\n",
    "                self.nbt[i]-=1\n",
    "        return psize\n",
    "    \n",
    "    def padding(self,mode=\"reflect\"):\n",
    "        if self.p is None:\n",
    "            self.p=self.detpad()\n",
    "        padval=int(self.p[0]/2),int(self.p[1]/2)\n",
    "        pIm=np.pad(self.im,((padval[0],padval[0]),(padval[1],padval[1]),(0,0)),mode=mode)\n",
    "        del padval\n",
    "        gc.collect()\n",
    "        return pIm\n",
    "    \n",
    "    def tilegeneration(self):\n",
    "        if self.pIm is None:\n",
    "            self.pIm=self.padding()\n",
    "        tiles=[]\n",
    "        for i in range (self.nbt[0]):\n",
    "            for j in range (self.nbt[1]):\n",
    "                tiles.append(self.pIm[i*self.to:i*self.to+self.t,j*self.to:j*self.to+self.t])\n",
    "        return tiles\n",
    "    \n",
    "    def tilevis(self,concat=True):\n",
    "        if self.tl is None:\n",
    "            self.tl=self.tilegeneration()\n",
    "        plt.figure(figsize =( 3*self.nbt[1], 3*self.nbt[0]))\n",
    "        if not concat:\n",
    "            for i in range(self.nbt[0]):\n",
    "                for j in range(self.nbt[1]):\n",
    "                    ax = plt.subplot(self.nbt[0], self.nbt[1], i*self.nbt[1]+j+1)\n",
    "                    ax.axis(\"off\")\n",
    "                    plt.imshow(self.tl[i*self.nbt[1]+j])\n",
    "        else:\n",
    "            im=[]\n",
    "            for i in range(self.nbt[0]):\n",
    "                line=[]\n",
    "                for j in range(self.nbt[1]):\n",
    "                    if j==0: line=self.tl[i*self.nbt[1]+j]\n",
    "                    else: line = np.concatenate((line,self.tl[i*self.nbt[1]+j]),axis=1)\n",
    "                if i==0:im=line\n",
    "                else:im=np.concatenate((im,line),axis=0)\n",
    "            plt.imshow(im[...,0])\n",
    "        del im\n",
    "        gc.collect()\n",
    "        plt.show()\n",
    "        \n",
    "    \n",
    "    def detmask(self):\n",
    "        if self.pIm is None:\n",
    "            self.pIm=self.padding()\n",
    "        mask=np.zeros(np.shape(self.pIm)[:2])\n",
    "        for i in range (self.nbt[0]):\n",
    "            for j in range (self.nbt[1]):\n",
    "                mask[i*self.to:i*self.to+self.t,j*self.to:j*self.to+self.t]+=np.ones((self.t,self.t))\n",
    "        return mask[int(self.p[0]/2):self.s[0]+int(self.p[0]/2),int(self.p[1]/2):self.s[1]+int(self.p[1]/2)]\n",
    "    \n",
    "    def reconstruct(self,tl=None):\n",
    "        if tl is None:\n",
    "            tl=self.tilegeneration()\n",
    "        reim=np.zeros(np.shape(self.pIm))\n",
    "        for i in range (self.nbt[0]):\n",
    "            for j in range (self.nbt[1]):\n",
    "                reim[i*self.to:i*self.to+self.t,j*self.to:j*self.to+self.t]+=tl[i*self.nbt[1]+j]\n",
    "        reim=reim[int(self.p[0]/2):self.s[0]+int(self.p[0]/2),int(self.p[1]/2):self.s[1]+int(self.p[1]/2)]\n",
    "        mask=self.detmask()\n",
    "        for i in range(np.shape(reim)[2]):\n",
    "            reim[...,i]/=mask\n",
    "        if np.max(reim)<=1:\n",
    "            reim=(reim*255)\n",
    "        return reim.astype(int)\n"
   ]
  },
  {
   "cell_type": "code",
   "execution_count": 13,
   "id": "5e53759e",
   "metadata": {
    "id": "5e53759e"
   },
   "outputs": [],
   "source": [
    "preproc=sm.get_preprocessing(\"efficientnetb3\")\n",
    "def tiling(dataset,tilesize=256,overlap=64):\n",
    "    \n",
    "    tiled=[]\n",
    "    for i in dataset:\n",
    "        tempi=Tile(i,tilesize,overlap)\n",
    "        tiled.append(tempi.tilegeneration())\n",
    "    del tempi\n",
    "    gc.collect()\n",
    "    return np.reshape(tiled,(-1,tilesize,tilesize,np.shape(dataset)[-1]))\n",
    "tilesize=256\n",
    "overlap=64\n",
    "x_show,y_show=np.copy(x_valid),np.copy(y_valid)\n",
    "x_train,y_train=tiling(x_train[:10]),tiling(y_train[:10])\n",
    "x_valid,y_valid=tiling(x_valid),tiling(y_valid)"
   ]
  },
  {
   "cell_type": "code",
   "execution_count": 14,
   "id": "3e2ffb82",
   "metadata": {
    "id": "3e2ffb82"
   },
   "outputs": [],
   "source": [
    "class Imgen(Sequence):\n",
    "\n",
    "    def __init__(self, x_set, y_set, batch_size, augmentations):\n",
    "        self.x, self.y = x_set, y_set\n",
    "        self.batch_size = batch_size\n",
    "        self.augment = augmentations\n",
    "\n",
    "    def __len__(self):\n",
    "        return int(np.ceil(len(self.x) / float(self.batch_size)))\n",
    "\n",
    "    def __getitem__(self, idx):\n",
    "        batch_x = np.copy(self.x[idx * self.batch_size:(idx + 1) * self.batch_size])\n",
    "        batch_y = np.copy(self.y[idx * self.batch_size:(idx + 1) * self.batch_size])\n",
    "        img=[]\n",
    "        msk=[]\n",
    "        for i in range(batch_x.shape[0]):\n",
    "            agm = self.augment(image=batch_x[i], mask=batch_y[i])\n",
    "            img.append(agm[\"image\"])\n",
    "            msk.append(agm[\"mask\"])\n",
    "        del batch_x,batch_y\n",
    "        gc.collect()\n",
    "        img=np.array(img)\n",
    "        msk=np.array(msk)\n",
    "        img=preproc(img)\n",
    "        return img.astype(\"float32\"),msk.astype(\"float32\")"
   ]
  },
  {
   "cell_type": "code",
   "execution_count": 15,
   "id": "8355421f",
   "metadata": {
    "id": "8355421f"
   },
   "outputs": [],
   "source": [
    "from classification_models.tfkeras import Classifiers\n",
    "VGG16, preprocess_input = Classifiers.get('vgg16')\n",
    "lossmodel = VGG16(input_shape=(256, 256, 3), weights='imagenet',include_top=False)\n",
    "lossmodel.trainable = False\n",
    "for l in lossmodel.layers:\n",
    "    l.trainable = False"
   ]
  },
  {
   "cell_type": "code",
   "execution_count": 16,
   "id": "7b81471e",
   "metadata": {
    "id": "7b81471e"
   },
   "outputs": [],
   "source": [
    "y_loss = lossmodel.predict(y_train.astype(\"float32\"))"
   ]
  },
  {
   "cell_type": "code",
   "execution_count": 13,
   "id": "bac4081d",
   "metadata": {
    "colab": {
     "base_uri": "https://localhost:8080/"
    },
    "id": "bac4081d",
    "outputId": "436f2751-a25e-4785-c4e5-328d36650e94"
   },
   "outputs": [
    {
     "name": "stdout",
     "output_type": "stream",
     "text": [
      "(250, 8, 8, 512)\n"
     ]
    }
   ],
   "source": [
    "print(np.shape(y_loss))"
   ]
  },
  {
   "cell_type": "code",
   "execution_count": 14,
   "id": "21252615",
   "metadata": {
    "id": "21252615"
   },
   "outputs": [],
   "source": [
    "#full_y_train = lossmodel.predict(y_train[:10])\n",
    "#train_gen = Imgen(x_train.astype(\"uint8\")[:10], full_y_train, batch_size=24, augmentations=AUGMENTATIONS_TEST)#=AUGMENTATION_TRAIN)\n",
    "#valid_gen = Imgen(x_valid.astype(\"uint8\"), y_valid, batch_size=24, augmentations=AUGMENTATIONS_TEST)"
   ]
  },
  {
   "cell_type": "code",
   "execution_count": 10,
   "id": "deac23b3",
   "metadata": {
    "id": "deac23b3"
   },
   "outputs": [],
   "source": [
    "sm.set_framework('tf.keras')\n",
    "sm.framework()\n",
    "mainmodel = Unet(\"efficientnetb3\",encoder_weights=\"imagenet\",activation=\"linear\", input_shape=(256, 256, 3),classes=3)"
   ]
  },
  {
   "cell_type": "code",
   "execution_count": 18,
   "id": "887f11f9",
   "metadata": {
    "id": "887f11f9"
   },
   "outputs": [],
   "source": [
    "import keras\n",
    "inp = keras.layers.Input((256,256,3))\n",
    "out1 = mainmodel(inp)\n",
    "out2 = lossmodel (out1)\n",
    "fullModel=Model(inputs=inp,outputs=[out1,out2])"
   ]
  },
  {
   "cell_type": "code",
   "execution_count": 19,
   "id": "016b982e",
   "metadata": {
    "id": "016b982e"
   },
   "outputs": [],
   "source": [
    "fullModel.layers[1]._name=\"mainmodel\"\n",
    "fullModel.layers[2]._name=\"fullmodel\""
   ]
  },
  {
   "cell_type": "code",
   "execution_count": 20,
   "id": "d295e428",
   "metadata": {
    "colab": {
     "base_uri": "https://localhost:8080/"
    },
    "id": "d295e428",
    "outputId": "a11bbf07-ded9-4898-b782-c7496a5d9a64"
   },
   "outputs": [
    {
     "name": "stdout",
     "output_type": "stream",
     "text": [
      "Model: \"model_1\"\n",
      "_________________________________________________________________\n",
      " Layer (type)                Output Shape              Param #   \n",
      "=================================================================\n",
      " input_4 (InputLayer)        [(None, 256, 256, 3)]     0         \n",
      "                                                                 \n",
      " mainmodel (Functional)      (None, 256, 256, 3)       17868123  \n",
      "                                                                 \n",
      " fullmodel (Functional)      (None, 8, 8, 512)         14714688  \n",
      "                                                                 \n",
      "=================================================================\n",
      "Total params: 32,582,811\n",
      "Trainable params: 17,778,843\n",
      "Non-trainable params: 14,803,968\n",
      "_________________________________________________________________\n"
     ]
    }
   ],
   "source": [
    "fullModel.summary()"
   ]
  },
  {
   "cell_type": "code",
   "execution_count": 21,
   "id": "e3e3f2c9",
   "metadata": {
    "id": "e3e3f2c9"
   },
   "outputs": [],
   "source": [
    "# lossOut = lossmodel(mainmodel.output) #you pass the output of one model to the other\n",
    "# fullModel = Model(inputs=mainmodel.input,outputs=lossOut)\n"
   ]
  },
  {
   "cell_type": "code",
   "execution_count": 22,
   "id": "34964a08",
   "metadata": {
    "id": "34964a08"
   },
   "outputs": [],
   "source": [
    "fullModel.layers[-1]._name=\"fullmodel\"\n",
    "mainmodel.layers[-1]._name=\"mainmodel\""
   ]
  },
  {
   "cell_type": "code",
   "execution_count": 23,
   "id": "1783ba68",
   "metadata": {
    "id": "1783ba68"
   },
   "outputs": [],
   "source": [
    "# fullModel.summary()"
   ]
  },
  {
   "cell_type": "code",
   "execution_count": 24,
   "id": "a145e348",
   "metadata": {
    "id": "a145e348"
   },
   "outputs": [],
   "source": [
    "# Fit the model on the batches generated by datagen.flow().\n",
    "fullModel.compile(Adam(learning_rate=1e-4),\n",
    "                  loss={\"mainmodel\":mse,\n",
    "                        \"fullmodel\":mse\n",
    "                       },loss_weights=[1,100])"
   ]
  },
  {
   "cell_type": "code",
   "execution_count": 10,
   "id": "443c527c",
   "metadata": {
    "id": "443c527c"
   },
   "outputs": [],
   "source": [
    "mainmodel.load_weights(\"perclossb3_1.h5\")"
   ]
  },
  {
   "cell_type": "code",
   "execution_count": 26,
   "id": "bfh26aPkHLGt",
   "metadata": {
    "id": "bfh26aPkHLGt"
   },
   "outputs": [],
   "source": [
    "es_callback=tf.keras.callbacks.EarlyStopping(\n",
    "    monitor=\"loss\",\n",
    "    min_delta=0,\n",
    "    patience=10,\n",
    "    verbose=0,\n",
    "    mode=\"min\",\n",
    "    baseline=None,\n",
    "    restore_best_weights=True,\n",
    ")\n",
    "\n",
    "x_train_processed=preproc(np.copy(x_train.astype(\"float32\")))\n",
    "y_train_processed=np.copy(y_train.astype(\"float32\"))"
   ]
  },
  {
   "cell_type": "code",
   "execution_count": 95,
   "id": "6ede9c26",
   "metadata": {
    "colab": {
     "base_uri": "https://localhost:8080/"
    },
    "id": "6ede9c26",
    "outputId": "52b1c4c0-94b5-460f-fd9c-72d2561d05b6"
   },
   "outputs": [
    {
     "name": "stdout",
     "output_type": "stream",
     "text": [
      "Epoch 1/100\n",
      "16/16 [==============================] - 42s 1s/step - loss: 313.8357 - mainmodel_loss: 80.9424 - fullmodel_loss: 2.3289\n",
      "Epoch 2/100\n",
      "16/16 [==============================] - 21s 1s/step - loss: 300.1075 - mainmodel_loss: 79.3604 - fullmodel_loss: 2.2075\n",
      "Epoch 3/100\n",
      "16/16 [==============================] - 21s 1s/step - loss: 300.5477 - mainmodel_loss: 81.1112 - fullmodel_loss: 2.1944\n",
      "Epoch 4/100\n",
      "16/16 [==============================] - 21s 1s/step - loss: 313.3297 - mainmodel_loss: 84.3651 - fullmodel_loss: 2.2896\n",
      "Epoch 5/100\n",
      "16/16 [==============================] - 21s 1s/step - loss: 314.2053 - mainmodel_loss: 84.5675 - fullmodel_loss: 2.2964\n",
      "Epoch 6/100\n",
      "16/16 [==============================] - 21s 1s/step - loss: 305.2470 - mainmodel_loss: 84.3408 - fullmodel_loss: 2.2091\n",
      "Epoch 7/100\n",
      "16/16 [==============================] - 21s 1s/step - loss: 299.5901 - mainmodel_loss: 83.1379 - fullmodel_loss: 2.1645\n",
      "Epoch 8/100\n",
      "16/16 [==============================] - 21s 1s/step - loss: 297.6490 - mainmodel_loss: 80.9907 - fullmodel_loss: 2.1666\n",
      "Epoch 9/100\n",
      "16/16 [==============================] - 21s 1s/step - loss: 298.2800 - mainmodel_loss: 82.3915 - fullmodel_loss: 2.1589\n",
      "Epoch 10/100\n",
      "16/16 [==============================] - 21s 1s/step - loss: 305.1970 - mainmodel_loss: 84.9299 - fullmodel_loss: 2.2027\n",
      "Epoch 11/100\n",
      "16/16 [==============================] - 21s 1s/step - loss: 298.4780 - mainmodel_loss: 83.1849 - fullmodel_loss: 2.1529\n",
      "Epoch 12/100\n",
      "16/16 [==============================] - 21s 1s/step - loss: 299.7466 - mainmodel_loss: 83.8472 - fullmodel_loss: 2.1590\n",
      "Epoch 13/100\n",
      "16/16 [==============================] - 21s 1s/step - loss: 294.1593 - mainmodel_loss: 82.4489 - fullmodel_loss: 2.1171\n",
      "Epoch 14/100\n",
      "16/16 [==============================] - 21s 1s/step - loss: 294.5201 - mainmodel_loss: 82.1784 - fullmodel_loss: 2.1234\n",
      "Epoch 15/100\n",
      "16/16 [==============================] - 21s 1s/step - loss: 290.7354 - mainmodel_loss: 82.4255 - fullmodel_loss: 2.0831\n",
      "Epoch 16/100\n",
      "16/16 [==============================] - 21s 1s/step - loss: 301.3957 - mainmodel_loss: 83.1145 - fullmodel_loss: 2.1828\n",
      "Epoch 17/100\n",
      "16/16 [==============================] - 21s 1s/step - loss: 296.0775 - mainmodel_loss: 83.4668 - fullmodel_loss: 2.1261\n",
      "Epoch 18/100\n",
      "16/16 [==============================] - 21s 1s/step - loss: 294.9526 - mainmodel_loss: 85.5384 - fullmodel_loss: 2.0941\n",
      "Epoch 19/100\n",
      "16/16 [==============================] - 21s 1s/step - loss: 300.2710 - mainmodel_loss: 86.2753 - fullmodel_loss: 2.1400\n",
      "Epoch 20/100\n",
      "16/16 [==============================] - 21s 1s/step - loss: 289.3271 - mainmodel_loss: 82.7498 - fullmodel_loss: 2.0658\n",
      "Epoch 21/100\n",
      "16/16 [==============================] - 21s 1s/step - loss: 301.9726 - mainmodel_loss: 85.8099 - fullmodel_loss: 2.1616\n",
      "Epoch 22/100\n",
      "16/16 [==============================] - 21s 1s/step - loss: 295.5135 - mainmodel_loss: 83.8000 - fullmodel_loss: 2.1171\n",
      "Epoch 23/100\n",
      "16/16 [==============================] - 21s 1s/step - loss: 301.6247 - mainmodel_loss: 87.9796 - fullmodel_loss: 2.1365\n",
      "Epoch 24/100\n",
      "16/16 [==============================] - 21s 1s/step - loss: 294.8081 - mainmodel_loss: 84.5823 - fullmodel_loss: 2.1023\n",
      "Epoch 25/100\n",
      "16/16 [==============================] - 21s 1s/step - loss: 293.2141 - mainmodel_loss: 82.6318 - fullmodel_loss: 2.1058\n",
      "Epoch 26/100\n",
      "16/16 [==============================] - 21s 1s/step - loss: 309.3738 - mainmodel_loss: 86.6966 - fullmodel_loss: 2.2268\n",
      "Epoch 27/100\n",
      "16/16 [==============================] - 21s 1s/step - loss: 331.5583 - mainmodel_loss: 99.7457 - fullmodel_loss: 2.3181\n",
      "Epoch 28/100\n",
      "16/16 [==============================] - 21s 1s/step - loss: 305.5863 - mainmodel_loss: 87.0485 - fullmodel_loss: 2.1854\n",
      "Epoch 29/100\n",
      "16/16 [==============================] - 21s 1s/step - loss: 295.8504 - mainmodel_loss: 85.0360 - fullmodel_loss: 2.1081\n",
      "Epoch 30/100\n",
      "16/16 [==============================] - 21s 1s/step - loss: 289.7002 - mainmodel_loss: 81.9139 - fullmodel_loss: 2.0779\n"
     ]
    }
   ],
   "source": [
    "history1 = fullModel.fit(\n",
    "    x=x_train_processed,y={\"mainmodel\":y_train_processed,\"fullmodel\":y_loss},\n",
    "    epochs=100,\n",
    "    batch_size=16,\n",
    "    callbacks=[es_callback]\n",
    ")"
   ]
  },
  {
   "cell_type": "code",
   "execution_count": null,
   "id": "45e1ac32",
   "metadata": {
    "colab": {
     "base_uri": "https://localhost:8080/",
     "height": 447
    },
    "id": "45e1ac32",
    "outputId": "cc065517-6a3d-47d7-858a-dd73f92f1c50"
   },
   "outputs": [],
   "source": [
    "mainmodel.save_weights(\"content/gdrive/MyDrive/Biphoton/perclossb3_1.h5\")"
   ]
  },
  {
   "cell_type": "code",
   "execution_count": 80,
   "id": "5b50032e",
   "metadata": {
    "colab": {
     "base_uri": "https://localhost:8080/",
     "height": 513
    },
    "id": "5b50032e",
    "outputId": "e46768cb-767f-4a24-e890-4c690ebb7a0e"
   },
   "outputs": [
    {
     "data": {
      "image/png": "[encoded data removed]",
      "text/plain": [
       "<Figure size 432x288 with 1 Axes>"
      ]
     },
     "metadata": {
      "needs_background": "light"
     },
     "output_type": "display_data"
    },
    {
     "data": {
      "image/png": "[encoded data removed]",
      "text/plain": [
       "<Figure size 432x288 with 1 Axes>"
      ]
     },
     "metadata": {
      "needs_background": "light"
     },
     "output_type": "display_data"
    }
   ],
   "source": [
    "for h in [history1]:\n",
    "    losscurve=h.history[\"loss\"]\n",
    "    vlosscurve=h.history[\"mainmodel_loss\"]\n",
    "    flosscurve=h.history[\"fullmodel_loss\"]\n",
    "    plt.figure()\n",
    "    plt.plot(losscurve)\n",
    "    plt.plot(vlosscurve)\n",
    "    plt.plot(flosscurve)\n",
    "    plt.show()\n",
    "    plt.figure()\n",
    "    plt.plot(losscurve[-10:])\n",
    "    plt.plot(vlosscurve[-10:])\n",
    "    plt.plot(flosscurve[-10:])\n",
    "    plt.show()"
   ]
  },
  {
   "cell_type": "code",
   "execution_count": null,
   "id": "0e66f868",
   "metadata": {
    "id": "0e66f868",
    "outputId": "014bbf17-b064-4421-a5dc-c22bec7c5d2b"
   },
   "outputs": [],
   "source": [
    "print(np.max(x_train[:10].astype(\"uint8\")))\n",
    "mainmodel.evaluate(preproc(x_train[:10].astype(\"uint8\")),y_train[:10])"
   ]
  },
  {
   "cell_type": "code",
   "execution_count": 5,
   "id": "2d268d52",
   "metadata": {},
   "outputs": [
    {
     "data": {
      "text/plain": [
       "0"
      ]
     },
     "execution_count": 5,
     "metadata": {},
     "output_type": "execute_result"
    }
   ],
   "source": [
    "imshape=np.shape(np.expand_dims(imgs[0,:,:,0],axis=-1))\n",
    "nddr=np.expand_dims(imgs[...,0],axis=3)\n",
    "nddg=np.expand_dims(imgs[...,1],axis=3)\n",
    "intg=np.expand_dims(imgs[...,2],axis=3)\n",
    "intr=np.expand_dims(imgs[...,3],axis=3)\n",
    "X=np.concatenate((intg,intr),axis=0)\n",
    "Y=np.concatenate((nddg,nddr),axis=0)\n",
    "X=np.concatenate((X,X,X),axis=3)\n",
    "Y=np.concatenate((Y,Y,Y),axis=3)\n",
    "x_test=X\n",
    "y_test=Y\n",
    "del X,Y\n",
    "del imgs,nddr,nddg,intg,intr\n",
    "gc.collect()"
   ]
  },
  {
   "cell_type": "code",
   "execution_count": 9,
   "id": "378b3f39",
   "metadata": {},
   "outputs": [],
   "source": [
    "preproc=sm.get_preprocessing(\"efficientnetb3\")\n",
    "def tiling(dataset,tilesize=256,overlap=64):\n",
    "    \n",
    "    tiled=[]\n",
    "    for i in dataset:\n",
    "        tempi=Tile(i,tilesize,overlap)\n",
    "        tiled.append(tempi.tilegeneration())\n",
    "    del tempi\n",
    "    gc.collect()\n",
    "    return np.reshape(tiled,(-1,tilesize,tilesize,np.shape(dataset)[-1]))\n",
    "tilesize=256\n",
    "overlap=64\n",
    "x_show,y_show=np.copy(x_test),np.copy(y_test)\n",
    "x_test,y_test=tiling(x_test),tiling(y_test)"
   ]
  },
  {
   "cell_type": "code",
   "execution_count": 11,
   "id": "3c6f06f1",
   "metadata": {},
   "outputs": [],
   "source": [
    "mainmodel.load_weights(\"goodperclossb3_2.h5\")"
   ]
  },
  {
   "cell_type": "code",
   "execution_count": 37,
   "id": "bca58d79",
   "metadata": {},
   "outputs": [],
   "source": [
    "from tensorflow.keras.models import load_model\n",
    "model=load_model(\"streetcareoverfitb3_2\",custom_objects={\n",
    "  \"mean_squared_error_loss\": mse})"
   ]
  },
  {
   "cell_type": "code",
   "execution_count": 38,
   "id": "df08683c",
   "metadata": {},
   "outputs": [
    {
     "name": "stdout",
     "output_type": "stream",
     "text": [
      "(6250, 256, 256, 3)\n"
     ]
    }
   ],
   "source": [
    "print(np.shape(x_test))"
   ]
  },
  {
   "cell_type": "code",
   "execution_count": null,
   "id": "456580c9",
   "metadata": {
    "id": "456580c9"
   },
   "outputs": [],
   "source": [
    "res=model.predict(preproc(np.copy(x_test.astype(\"float32\"))))"
   ]
  },
  {
   "cell_type": "code",
   "execution_count": 61,
   "id": "76a621e3",
   "metadata": {},
   "outputs": [
    {
     "data": {
      "text/plain": [
       "566137"
      ]
     },
     "execution_count": 61,
     "metadata": {},
     "output_type": "execute_result"
    }
   ],
   "source": [
    "del res, mres, model, xtrec, fres\n",
    "gc.collect()"
   ]
  },
  {
   "cell_type": "code",
   "execution_count": 12,
   "id": "0f3cccd2",
   "metadata": {},
   "outputs": [],
   "source": [
    "mres=mainmodel.predict(preproc(np.copy(x_test.astype(\"float32\"))))"
   ]
  },
  {
   "cell_type": "code",
   "execution_count": 13,
   "id": "7ffe39ae",
   "metadata": {
    "colab": {
     "base_uri": "https://localhost:8080/"
    },
    "id": "7ffe39ae",
    "outputId": "a527089c-3214-4bc8-d2d3-9bafb3e1e20c"
   },
   "outputs": [
    {
     "name": "stdout",
     "output_type": "stream",
     "text": [
      "(6250, 256, 256, 3)\n",
      "(250, 1024, 1024, 3)\n",
      "328\n"
     ]
    }
   ],
   "source": [
    "tinfo=Tile(np.zeros((1024,1024,3)),tilesize,overlap)\n",
    "xtrec=[]\n",
    "tinfo.pIm=tinfo.padding()\n",
    "nim=tinfo.nbt[0]*tinfo.nbt[1]\n",
    "print(np.shape(mres))\n",
    "for i in range(len(mres)//nim):\n",
    "    xtrec.append(tinfo.reconstruct(mres[nim*i:nim*(i+1)]))\n",
    "print(np.shape(xtrec))\n",
    "print(np.max(xtrec))"
   ]
  },
  {
   "cell_type": "code",
   "execution_count": 14,
   "id": "9258d459",
   "metadata": {},
   "outputs": [],
   "source": [
    "fres=np.zeros([10,5120,5120,3])\n",
    "for k in range(10):\n",
    "    for j in range (5):\n",
    "        for i in range (5):\n",
    "            fres[k,i*1024:i*1024+1024,j*1024:j*1024+1024]=(xtrec[25*k+5*j+i])"
   ]
  },
  {
   "cell_type": "code",
   "execution_count": null,
   "id": "a7a81f05",
   "metadata": {},
   "outputs": [],
   "source": [
    "plt.figure(figsize=(30,30))\n",
    "diff=(((255*(fres[0]-np.min(fres[0]))/np.max(fres[0])-np.min(fres[0])).astype(\"uint8\"))-fres[0].astype(\"uint8\"))\n",
    "plt.imshow(diff,cmap=\"gray\")\n",
    "plt.figure(figsize=(30,30))\n",
    "plt.imshow((255*(fres[0]-np.min(fres[0]))/np.max(fres[0])-np.min(fres[0])).astype(\"uint8\"),cmap=\"gray\")\n",
    "plt.figure(figsize=(30,30))\n",
    "plt.imshow(fres[0].astype(\"uint8\"),cmap=\"gray\")\n"
   ]
  },
  {
   "cell_type": "code",
   "execution_count": 21,
   "id": "226e171c",
   "metadata": {},
   "outputs": [],
   "source": [
    "for i in range(len(fres)):\n",
    "    tiff.imwrite(\"testgoodimpred%d\"%i,(255*(fres[i]-np.min(fres[i]))/(np.max(fres[i])-np.min(fres[i]))).astype(\"uint8\"),resolution=(1/10,1/10))"
   ]
  },
  {
   "cell_type": "code",
   "execution_count": 19,
   "id": "bfa8b80a",
   "metadata": {},
   "outputs": [
    {
     "data": {
      "text/plain": [
       "0"
      ]
     },
     "execution_count": 19,
     "metadata": {},
     "output_type": "execute_result"
    }
   ],
   "source": [
    "if True:\n",
    "    from PIL import Image\n",
    "    for i in range(len(fres)):\n",
    "        im=Image.fromarray((255*(fres[i]-np.min(fres[i]))/(np.max(fres[i])-np.min(fres[i]))).astype(\"uint8\"))\n",
    "        im.save(\"fullgoodpred%d.png\"%i)\n",
    "        del im\n",
    "gc.collect()"
   ]
  },
  {
   "cell_type": "code",
   "execution_count": null,
   "id": "f31b5ca1",
   "metadata": {
    "id": "f31b5ca1",
    "outputId": "b8e076de-79aa-452b-c29e-3e39a5795526"
   },
   "outputs": [],
   "source": [
    "a = np.mean(y_test[1500],axis=2)\n",
    "# a[a>-10]=0\n",
    "plt.figure(figsize=(30,30))\n",
    "print(np.min(a),np.max(a),np.mean(a))\n",
    "plt.imshow((a-np.min(a))/(np.max(a)-np.min(a)),cmap=\"gray\")\n",
    "print(np.min(a-np.min(a))/(np.max(a)-np.min(a)))\n",
    "print(np.max(a-np.min(a))/(np.max(a)-np.min(a)))"
   ]
  },
  {
   "cell_type": "code",
   "execution_count": null,
   "id": "6ce9aa27",
   "metadata": {
    "id": "6ce9aa27",
    "outputId": "2bab8932-19b9-4eb9-c12a-63358e091a69"
   },
   "outputs": [],
   "source": [
    "n=6\n",
    "pick=x_tbio[10+n]\n",
    "plt.imshow(pick.astype(\"uint8\"))\n",
    "plt.figure()\n",
    "img=np.mean(res[n],axis=2)\n",
    "nimg=(img-np.min(img))/(np.max(img)-np.min(img))\n",
    "plt.imshow(nimg,cmap=\"gray\")\n",
    "plt.figure()\n",
    "plt.imshow(y_tbio[10+n].astype(\"uint8\"),cmap=\"gray\")\n",
    "print(np.min(res[n]),np.max(res[n]),np.mean(res[n]))\n",
    "print(np.min(nimg),np.max(nimg),np.mean(nimg))"
   ]
  },
  {
   "cell_type": "code",
   "execution_count": null,
   "id": "2fe56784",
   "metadata": {
    "id": "2fe56784"
   },
   "outputs": [],
   "source": [
    "y_tile=tiling(y_test)"
   ]
  },
  {
   "cell_type": "code",
   "execution_count": null,
   "id": "a719db9e",
   "metadata": {
    "colab": {
     "base_uri": "https://localhost:8080/",
     "height": 1000
    },
    "id": "a719db9e",
    "outputId": "de781f2e-1d0c-4e3d-95e4-78df824b2619"
   },
   "outputs": [],
   "source": [
    "for i,j,k in zip(x_valid[20:30],res[20:30],y_valid[20:30]):\n",
    "    fig, (ax1, ax2, ax3) = plt.subplots(1, 3,figsize=(30,30))\n",
    "    ax1.imshow((255*(i-np.min(i))/(np.max(i)-np.min(i))).astype(\"uint8\"),cmap=\"gray\")\n",
    "    ax2.imshow((255*(j-np.min(j))/(np.max(j)-np.min(j))).astype(\"uint8\"),cmap=\"gray\")\n",
    "    ax3.imshow((255*(k-np.min(k))/(np.max(k)-np.min(k))).astype(\"uint8\"),cmap=\"gray\")\n",
    "plt.show()"
   ]
  },
  {
   "cell_type": "code",
   "execution_count": null,
   "id": "69cb69b9",
   "metadata": {
    "colab": {
     "base_uri": "https://localhost:8080/",
     "height": 1000
    },
    "id": "69cb69b9",
    "outputId": "f4914b33-c93b-49d3-cfb3-169abe048a86"
   },
   "outputs": [],
   "source": [
    "for i,j,k in zip(xtrec,x_show.astype(\"uint8\"),y_show.astype(\"uint8\")):\n",
    "    fig, (ax1, ax2, ax3) = plt.subplots(1, 3,figsize=(30,30))\n",
    "    ax1.imshow(((j-np.min(j))/(np.max(j)-np.min(j))),cmap=\"gray\")\n",
    "    ax2.imshow(((i-np.min(i))/(np.max(i)-np.min(i))),cmap=\"gray\")\n",
    "    ax3.imshow(((k-np.min(k))/(np.max(k)-np.min(k))),cmap=\"gray\")\n",
    "    print(\"mean : \",np.mean(j),np.mean(i),np.mean(k))\n",
    "    print(\"std : \",np.std(j),np.std(i),np.std(k))\n",
    "    print(\"snr : \",np.mean(j)/np.std(j),np.mean(i)/np.std(i),np.mean(k)/np.std(k))\n",
    "    print(\"cv : \",np.std(j)/np.mean(j),np.std(i)/np.mean(i),np.std(k)/np.mean(k))\n",
    "    plt.show()"
   ]
  },
  {
   "cell_type": "code",
   "execution_count": null,
   "id": "87f71aa1",
   "metadata": {
    "id": "87f71aa1",
    "outputId": "3e39c365-b158-42c5-edd8-5c142aacd90e"
   },
   "outputs": [],
   "source": [
    "repred=np.copy(x_test[:250])\n",
    "for i in range(2):\n",
    "    repred=model.predict(preproc(repred.astype(\"uint8\")))\n",
    "    repred=np.concatenate((repred,repred,repred),axis=3)\n",
    "    print(np.shape(repred))\n",
    "repred=np.expand_dims(repred[...,0],axis=3)\n",
    "tinfo=Tile(np.zeros(imshape),tilesize,overlap)\n",
    "xtrec=[]\n",
    "tinfo.pIm=tinfo.padding()\n",
    "nim=tinfo.nbt[0]*tinfo.nbt[1]\n",
    "print(np.shape(repred))\n",
    "for i in range(len(repred)//nim):\n",
    "    xtrec.append(tinfo.reconstruct(repred[nim*i:nim*(i+1)]))\n",
    "print(np.shape(xtrec))\n",
    "print(np.max(xtrec))"
   ]
  },
  {
   "cell_type": "code",
   "execution_count": null,
   "id": "4d16cb09",
   "metadata": {
    "colab": {
     "base_uri": "https://localhost:8080/",
     "height": 1000
    },
    "id": "4d16cb09",
    "outputId": "1510fe17-2ca7-410f-f881-6e92f5edc7c8"
   },
   "outputs": [],
   "source": [
    "for i in range(3):\n",
    "    plt.figure(figsize=(30,30))\n",
    "    plt.imshow(x_show[i].astype(\"uint8\"),cmap=\"gray\")\n",
    "    plt.figure(figsize=(30,30))\n",
    "    plt.imshow(y_show[i].astype(\"uint8\"),cmap=\"gray\")\n",
    "    plt.figure(figsize=(30,30))\n",
    "    xpred=(255*(xtrec[i]-np.min(xtrec[i]))/(np.max(xtrec[i])-np.min(xtrec[i]))).astype(\"uint8\")\n",
    "    plt.imshow(xpred,cmap=\"gray\")"
   ]
  },
  {
   "cell_type": "code",
   "execution_count": 121,
   "id": "eicRY9AL7S6X",
   "metadata": {
    "colab": {
     "base_uri": "https://localhost:8080/"
    },
    "id": "eicRY9AL7S6X",
    "outputId": "2e6595ac-6638-4b25-d7d6-90be5b3a1597"
   },
   "outputs": [
    {
     "data": {
      "text/plain": [
       "131"
      ]
     },
     "execution_count": 121,
     "metadata": {},
     "output_type": "execute_result"
    }
   ],
   "source": [
    "if True:\n",
    "  from PIL import Image\n",
    "  for j in range(len(xtrec)):\n",
    "    np.random.seed(j)\n",
    "    i=np.random.randint(0,len(res))\n",
    "    xpred=(255*(res[i]-np.min(res[i]))/(np.max(res[i])-np.min(res[i]))).astype(\"uint8\")\n",
    "    x=np.array(np.concatenate((x_valid[i].astype(\"uint8\"),xpred,y_valid[i].astype(\"uint8\")),axis=1))\n",
    "    im=Image.fromarray(x)\n",
    "    im.save(\"gdrive/MyDrive/Biphoton/gsaves/imgtc%d.png\"%j)\n",
    "    del x,im,xpred\n",
    "gc.collect()"
   ]
  },
  {
   "cell_type": "code",
   "execution_count": 31,
   "id": "d90a9e6e",
   "metadata": {},
   "outputs": [
    {
     "data": {
      "text/plain": [
       "31"
      ]
     },
     "execution_count": 31,
     "metadata": {},
     "output_type": "execute_result"
    }
   ],
   "source": [
    "if True:\n",
    "    \n",
    "    from PIL import Image\n",
    "    for j in range(len(xtrec)):\n",
    "        np.random.seed(j)\n",
    "        i=np.random.randint(0,len(xtrec))\n",
    "        xpred=(255*(xtrec[i]-np.min(xtrec[i]))/(np.max(xtrec[i])-np.min(xtrec[i]))).astype(\"uint8\")\n",
    "        intern=(255*(x_show[i]-np.min(x_show[i]))/(np.max(x_show[i])-np.min(x_show[i]))).astype(\"uint8\")\n",
    "        ndd=(255*(y_show[i]-np.min(y_show[i]))/(np.max(y_show[i])-np.min(y_show[i]))).astype(\"uint8\")\n",
    "        x=np.array(np.concatenate((intern,xpred,ndd),axis=1))\n",
    "        im=Image.fromarray(x)\n",
    "        im.save(\"imgc%d.png\"%j)\n",
    "        del x,im,xpred\n",
    "gc.collect()"
   ]
  },
  {
   "cell_type": "code",
   "execution_count": 50,
   "id": "5af7bbed",
   "metadata": {
    "colab": {
     "base_uri": "https://localhost:8080/",
     "height": 243
    },
    "id": "5af7bbed",
    "outputId": "5a15e828-c8a2-4074-e5e2-607096fb1345"
   },
   "outputs": [
    {
     "name": "stdout",
     "output_type": "stream",
     "text": [
      "(165, 768, 1024, 1)\n",
      "(3300, 256, 256, 3)\n",
      "(3300, 256, 256, 3)\n",
      "(165, 768, 1024, 3)\n",
      "78\n"
     ]
    }
   ],
   "source": [
    "im=np.expand_dims(tiff.imread(\"testing.tif\"),axis=-1)\n",
    "print(np.shape(im))\n",
    "testim=tiling(np.concatenate((im,im,im),axis=3))\n",
    "print(np.shape(testim))\n",
    "testres=mainmodel.predict(preproc(testim.astype(\"uint8\")))\n",
    "tinfo=Tile(np.zeros((768,1024,3)),tilesize,overlap)\n",
    "testxtrec=[]\n",
    "tinfo.pIm=tinfo.padding()\n",
    "nim=tinfo.nbt[0]*tinfo.nbt[1]\n",
    "print(np.shape(testres))\n",
    "for i in range(len(testres)//nim):\n",
    "    testxtrec.append(tinfo.reconstruct(testres[nim*i:nim*(i+1)]))\n",
    "print(np.shape(testxtrec))\n",
    "print(np.max(testxtrec))\n"
   ]
  },
  {
   "cell_type": "code",
   "execution_count": null,
   "id": "b629de79",
   "metadata": {
    "colab": {
     "base_uri": "https://localhost:8080/",
     "height": 207
    },
    "id": "b629de79",
    "outputId": "390567ac-1d40-4e00-d5d6-b1616949d166"
   },
   "outputs": [],
   "source": [
    "print(np.shape(im1),np.shape(im2))\n",
    "testim1=tiling(np.expand_dims(im1,axis=0))\n",
    "testim2=tiling(np.expand_dims(im2,axis=0))"
   ]
  },
  {
   "cell_type": "code",
   "execution_count": null,
   "id": "5fb8753c",
   "metadata": {
    "id": "5fb8753c"
   },
   "outputs": [],
   "source": [
    "testres = np.concatenate((mainmodel.predict(testim1.astype(\"uint8\")),mainmodel.predict(testim2.astype(\"uint8\"))),axis=0)\n",
    " "
   ]
  },
  {
   "cell_type": "code",
   "execution_count": null,
   "id": "0f35a31e",
   "metadata": {
    "id": "0f35a31e",
    "outputId": "2d36377f-8682-47af-ce08-36da3c049e3b"
   },
   "outputs": [
    {
     "name": "stdout",
     "output_type": "stream",
     "text": [
      "(50, 256, 256, 3)\n",
      "(2, 1024, 1024, 3)\n",
      "290\n"
     ]
    }
   ],
   "source": [
    "tinfo=Tile(np.zeros((1024,1024,3)),tilesize,overlap)\n",
    "testxtrec=[]\n",
    "tinfo.pIm=tinfo.padding()\n",
    "nim=tinfo.nbt[0]*tinfo.nbt[1]\n",
    "print(np.shape(testres))\n",
    "for i in range(len(testres)//nim):\n",
    "    testxtrec.append(tinfo.reconstruct(testres[nim*i:nim*(i+1)]))\n",
    "print(np.shape(testxtrec))\n",
    "print(np.max(testxtrec))"
   ]
  }
 ],
 "metadata": {
  "accelerator": "GPU",
  "colab": {
   "collapsed_sections": [],
   "name": "Perclossb3.ipynb",
   "provenance": []
  },
  "kernelspec": {
   "display_name": "Python 3 (ipykernel)",
   "language": "python",
   "name": "python3"
  },
  "language_info": {
   "codemirror_mode": {
    "name": "ipython",
    "version": 3
   },
   "file_extension": ".py",
   "mimetype": "text/x-python",
   "name": "python",
   "nbconvert_exporter": "python",
   "pygments_lexer": "ipython3",
   "version": "3.9.7"
  }
 },
 "nbformat": 4,
 "nbformat_minor": 5
}
